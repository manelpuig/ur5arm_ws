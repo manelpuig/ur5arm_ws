{
 "cells": [
  {
   "cell_type": "markdown",
   "metadata": {},
   "source": [
    "# Arduino ROS control Sensors and Actuators"
   ]
  },
  {
   "cell_type": "markdown",
   "metadata": {},
   "source": [
    "Remind that we want to develop a HW structure with RaspberryPi3 and Arduino "
   ]
  },
  {
   "cell_type": "markdown",
   "metadata": {},
   "source": [
    "<img src=\"./Images/2_nodes_schematics_01_chatter.png\">"
   ]
  },
  {
   "cell_type": "markdown",
   "metadata": {},
   "source": [
    "## Arduino Publisher & Subscriber\n",
    "\n",
    "We will have to program Publishers and Subscribers using C and Arduino IDE\n",
    "\n",
    "Rosserial Tutorials: http://wiki.ros.org/rosserial_arduino/Tutorials"
   ]
  },
  {
   "cell_type": "markdown",
   "metadata": {},
   "source": [
    "Publisher template:https://www.intorobotics.com/template-for-a-ros-publisher-using-rosserial-on-arduino/"
   ]
  },
  {
   "cell_type": "code",
   "execution_count": null,
   "metadata": {},
   "outputs": [],
   "source": [
    "#include <ros.h>\n",
    "ros::NodeHandle nh;\n",
    "\n",
    "std_msgs::String str_msg;\n",
    "ros::Publisher pub(\"any_topic\", &str_msg);\n",
    "\n",
    "void setup(){\n",
    "...\n",
    "nh.initNode();\n",
    "nh.advertise(pub);\n",
    "...\n",
    "}\n",
    "\n",
    "void loop()\n",
    "{\n",
    "pub.publish( &str_msg );\n",
    "nh.spinOnce();\n",
    "}"
   ]
  },
  {
   "cell_type": "markdown",
   "metadata": {},
   "source": [
    "Exemple \"Hello World\""
   ]
  },
  {
   "cell_type": "code",
   "execution_count": null,
   "metadata": {},
   "outputs": [],
   "source": [
    "/*\n",
    " * rosserial Publisher Example\n",
    " * Prints \"hello world!\"\n",
    " */\n",
    "\n",
    "// Use the following line if you have a Leonardo or MKR1000\n",
    "//#define USE_USBCON\n",
    "\n",
    "#include <ros.h>\n",
    "#include <std_msgs/String.h>\n",
    "\n",
    "ros::NodeHandle nh;\n",
    "\n",
    "std_msgs::String str_msg;\n",
    "ros::Publisher chatter(\"chatter\", &str_msg);\n",
    "\n",
    "char hello[13] = \"hello world!\";\n",
    "\n",
    "void setup()\n",
    "{\n",
    "  nh.initNode();\n",
    "  nh.advertise(chatter);\n",
    "}\n",
    "\n",
    "void loop()\n",
    "{\n",
    "  str_msg.data = hello;\n",
    "  chatter.publish( &str_msg );\n",
    "  nh.spinOnce();\n",
    "  delay(1000);\n",
    "}\n"
   ]
  },
  {
   "cell_type": "code",
   "execution_count": null,
   "metadata": {},
   "outputs": [],
   "source": [
    "rosrun rosserial_python serial_node.py /dev/ttyACM0"
   ]
  },
  {
   "cell_type": "markdown",
   "metadata": {},
   "source": [
    "Subscriber template:https://www.intorobotics.com/template-for-a-ros-subscriber-using-rosserial-on-arduino/"
   ]
  },
  {
   "cell_type": "code",
   "execution_count": null,
   "metadata": {},
   "outputs": [],
   "source": [
    "#include <ros.h>\n",
    "#include <std_msgs/THE_TYPE_OF_THE_MESSAGE_YOU_SUBSCRIBER>\n",
    "\n",
    "//create the ros node nh. The node will be used to publish to Arduino\n",
    "ros::NodeHandle nh;\n",
    "\n",
    "\n",
    "void messageCb(const std_msgs::MESSAGE_TYPE& msg)\n",
    "{\n",
    "  do_domething with msg.data;\n",
    " \n",
    "}\n",
    "\n",
    "ros::Subscriber<std_msgs::MESSAGE_TYPE> sub(\"THE_TOPIC_THAT_SUBSCRIBER\", &messageCb);\n",
    "\n",
    "void setup()\n",
    "{\n",
    "  nh.initNode();\n",
    "  nh.subscribe(sub);\n",
    "}\n",
    "\n",
    "void loop()\n",
    "{\n",
    "  nh.spinOnce();\n",
    "  delay(10);\n",
    "}"
   ]
  },
  {
   "cell_type": "markdown",
   "metadata": {},
   "source": [
    "Exemple \"Blink\""
   ]
  },
  {
   "cell_type": "code",
   "execution_count": null,
   "metadata": {},
   "outputs": [],
   "source": [
    "/*\n",
    " * rosserial Subscriber Example\n",
    " * Blinks an LED on callback\n",
    " */\n",
    "\n",
    "#include <ros.h>\n",
    "#include <std_msgs/Empty.h>\n",
    "\n",
    "ros::NodeHandle nh;\n",
    "\n",
    "void messageCb( const std_msgs::Empty& toggle_msg){\n",
    "  digitalWrite(13, HIGH-digitalRead(13));   // blink the led\n",
    "}\n",
    "\n",
    "ros::Subscriber<std_msgs::Empty> sub(\"toggle_led\", &messageCb );\n",
    "\n",
    "void setup()\n",
    "{\n",
    "  pinMode(13, OUTPUT);\n",
    "  nh.initNode();\n",
    "  nh.subscribe(sub);\n",
    "}\n",
    "\n",
    "void loop()\n",
    "{\n",
    "  nh.spinOnce();\n",
    "  delay(1);\n",
    "}\n"
   ]
  },
  {
   "cell_type": "code",
   "execution_count": null,
   "metadata": {},
   "outputs": [],
   "source": [
    "rosrun rosserial_python serial_node.py /dev/ttyACM0"
   ]
  },
  {
   "cell_type": "code",
   "execution_count": null,
   "metadata": {},
   "outputs": [],
   "source": [
    "rostopic pub toggle_led std_msgs/Empty --once"
   ]
  },
  {
   "cell_type": "markdown",
   "metadata": {},
   "source": [
    "to publish and latch message for 3s"
   ]
  },
  {
   "cell_type": "code",
   "execution_count": null,
   "metadata": {},
   "outputs": [],
   "source": [
    "rostopic pub toggle_led std_msgs/Empty \"{}\""
   ]
  },
  {
   "cell_type": "markdown",
   "metadata": {},
   "source": [
    "to publish and latch message. ctrl C to terminate"
   ]
  },
  {
   "cell_type": "markdown",
   "metadata": {},
   "source": [
    "## Exercise: Closed loop system"
   ]
  },
  {
   "cell_type": "markdown",
   "metadata": {},
   "source": [
    "We are going to develop a closed loop system between Arduino and our PC"
   ]
  },
  {
   "cell_type": "markdown",
   "metadata": {},
   "source": [
    "<img src=\"./Images/2_nodes_schematics_01_chatter.png\">"
   ]
  },
  {
   "cell_type": "markdown",
   "metadata": {},
   "source": [
    "In Arduino will develop a ROS node for Subscriber & Publisher according to the exemple in ros-lib: pubsub.ino"
   ]
  },
  {
   "cell_type": "code",
   "execution_count": null,
   "metadata": {},
   "outputs": [],
   "source": [
    "/*\n",
    " * rosserial PubSub Example\n",
    " * Prints \"Toggle LED!\" and toggles led\n",
    " */\n",
    "\n",
    "#include <ros.h>\n",
    "#include <std_msgs/String.h>\n",
    "#include <std_msgs/Empty.h>\n",
    "\n",
    "ros::NodeHandle  nh;\n",
    "\n",
    "\n",
    "void messageCb( const std_msgs::Empty& toggle_msg){\n",
    "  digitalWrite(13, HIGH-digitalRead(13));   // blink the led\n",
    "}\n",
    "\n",
    "ros::Subscriber<std_msgs::Empty> sub(\"toggle_led\", messageCb );\n",
    "\n",
    "std_msgs::String str_msg;\n",
    "ros::Publisher chatter(\"chatter\", &str_msg);\n",
    "\n",
    "char toggle[11] = \"Toggle LED!\";\n",
    "\n",
    "void setup()\n",
    "{\n",
    "  pinMode(13, OUTPUT);\n",
    "  nh.initNode();\n",
    "  nh.advertise(chatter);\n",
    "  nh.subscribe(sub);\n",
    "}\n",
    "\n",
    "void loop()\n",
    "{\n",
    "  str_msg.data = toggle;\n",
    "  chatter.publish( &str_msg );\n",
    "  nh.spinOnce();\n",
    "  delay(1000);\n",
    "}"
   ]
  },
  {
   "cell_type": "markdown",
   "metadata": {},
   "source": [
    "Explanation\n",
    "\n",
    "The code imports the ros_lib library and standard ROS messages for std_msgs::String and std_msgs::Empty. Variables are declared for storing the ROS data types and Arduino board pins.\n",
    "\n",
    "The code declares a publisher named \"chatter\" which publishes str_msg of std_msgs::String data type to the /chatter topic. Similarly, a subscriber named \"sub\" subscribes to the \"/toggle_led\" topic which gets an std_msgs::Empty data type.\n",
    "\n",
    "A ROS node handle is declared and then initialized in the setup() method. The node handle advertises the publishers and subscribes to the topic.\n",
    "\n",
    "The messageCb() is the method called when data is received on the Arduino subscriber node. The callback method checks if the ROS topic data is HIGH or not and accordingly toggles the connected LEDs.\n",
    "\n",
    "Finally, the loop() method runs an infinite loop to publish the toggle string data it to ROS. The node handle makes a call to spinOnce() to handle communication. This loop is executed every 1 second."
   ]
  },
  {
   "cell_type": "markdown",
   "metadata": {},
   "source": [
    "In a first test, we will open a new terminal in a PC to:\n",
    "- echo the Published message in the topic /chatter\n",
    "- pub and empty message to toggle the led"
   ]
  },
  {
   "cell_type": "code",
   "execution_count": null,
   "metadata": {},
   "outputs": [],
   "source": [
    "rosrun rosserial_python serial_node.py /dev/ttyACM0"
   ]
  },
  {
   "cell_type": "code",
   "execution_count": null,
   "metadata": {},
   "outputs": [],
   "source": [
    "rostopic list"
   ]
  },
  {
   "cell_type": "code",
   "execution_count": null,
   "metadata": {},
   "outputs": [],
   "source": [
    "rostopic echo /chatter"
   ]
  },
  {
   "cell_type": "code",
   "execution_count": null,
   "metadata": {},
   "outputs": [],
   "source": [
    "rostopic pub toggle_led std_msgs/Empty --once"
   ]
  },
  {
   "cell_type": "markdown",
   "metadata": {},
   "source": [
    "<img src=\"./Images/02_pubsub_PC.png\">"
   ]
  },
  {
   "cell_type": "markdown",
   "metadata": {},
   "source": [
    "In our PC we will develop a ROS node for Subscriber & Publisher"
   ]
  },
  {
   "cell_type": "code",
   "execution_count": null,
   "metadata": {},
   "outputs": [],
   "source": [
    "#!/usr/bin/env python\n",
    "# the previous line has allways to be the first line\n",
    "#remove or add the library/libraries for ROS\n",
    "import rospy\n",
    "\n",
    "#remove or add the message type\n",
    "from std_msgs.msg import String, Empty\n",
    "\n",
    "# Initialise variables\n",
    "chat_msg=\"\"\n",
    "pub = None\n",
    "\n",
    "#define function/functions to provide the required functionality\n",
    "def chatterCb(msg): # msg could be any name\n",
    "    global chat_msg\n",
    "    chat_msg=msg.data\n",
    "    rospy.loginfo(rospy.get_caller_id() + \": I heard %s\", chat_msg)  \n",
    "    if chat_msg==\"Toggle LED!\":\n",
    "        toggle_msg=Empty() # message to be published\n",
    "        rospy.loginfo(\"OK. I send Empty message to toggle LED\")\n",
    "        pub.publish(toggle_msg)\n",
    "    else:\n",
    "        rospy.loginfo(\"NOT a correct order\")\n",
    "\n",
    "\n",
    "if __name__=='__main__':\n",
    "\n",
    "    try:\n",
    "        #Add here the name of the ROS node. Node names are unique named. Here without \"anonimous\"!\n",
    "        rospy.init_node('rUBot_ctrl_node')\n",
    "        #subscribe to a topic using rospy.Subscriber class\n",
    "        sub=rospy.Subscriber('/chatter', String, chatterCb)\n",
    "        #publish messages to a topic using rospy.Publisher class\n",
    "        pub=rospy.Publisher('/toggle_led', Empty, queue_size=1)\n",
    "  \n",
    "        rospy.spin()\n",
    "      \n",
    "    except rospy.ROSInterruptException:\n",
    "        rospy.loginfo(\"node terminated.\")"
   ]
  },
  {
   "cell_type": "markdown",
   "metadata": {},
   "source": [
    "You can perform the code using the Object Oriented Programing structure:"
   ]
  },
  {
   "cell_type": "code",
   "execution_count": null,
   "metadata": {},
   "outputs": [],
   "source": [
    "#!/usr/bin/env python\n",
    "\n",
    "import rospy\n",
    "from std_msgs.msg import Int64\n",
    "from std_srvs.srv import SetBool\n",
    "\n",
    "\n",
    "class NumberCounter:\n",
    "\n",
    "    def __init__(self):\n",
    "\t\tself.counter = 0\n",
    "\n",
    "\t\tself.number_subscriber = rospy.Subscriber(\"/number\", Int64, self.callback_number)\n",
    "\n",
    "\t\tself.pub = rospy.Publisher(\"/number_count\", Int64, queue_size=10)\n",
    "\n",
    "\t\tself.reset_service = rospy.Service(\"/reset_counter\", SetBool, self.callback_reset_counter)\n",
    "\n",
    "\tdef callback_number(self, msg):\n",
    "\t\tself.counter += msg.data\n",
    "\t\tnew_msg = Int64()\n",
    "\t\tnew_msg.data = self.counter\n",
    "\t\tself.pub.publish(new_msg)\n",
    "\n",
    "\tdef callback_reset_counter(self, req):\n",
    "\t\tif req.data:\n",
    "\t\t\tself.counter = 0\n",
    "\t\t\treturn True, \"Counter has been successfully reset\"\n",
    "\t\treturn False, \"Counter has not been reset\"\n",
    "\n",
    "\n",
    "if __name__ == '__main__':\n",
    "\trospy.init_node('number_counter')\n",
    "\tNumberCounter()\n",
    "\trospy.spin()\n"
   ]
  },
  {
   "cell_type": "code",
   "execution_count": null,
   "metadata": {},
   "outputs": [],
   "source": [
    "rosrun hw_motion_plan PubSub_LedChatter.py "
   ]
  },
  {
   "cell_type": "code",
   "execution_count": null,
   "metadata": {},
   "outputs": [],
   "source": [
    "rqt_graph"
   ]
  },
  {
   "cell_type": "markdown",
   "metadata": {},
   "source": [
    "<img src=\"./Images/2_LedChatter_terminal.png\">"
   ]
  },
  {
   "cell_type": "markdown",
   "metadata": {},
   "source": [
    "<img src=\"./Images/2_rqt_graph_Led.png\">"
   ]
  },
  {
   "cell_type": "markdown",
   "metadata": {},
   "source": [
    "https://atadiat.com/en/e-ros-imu-and-arduino-how-to-send-to-ros/"
   ]
  },
  {
   "cell_type": "markdown",
   "metadata": {},
   "source": [
    "### Launch file"
   ]
  },
  {
   "cell_type": "markdown",
   "metadata": {},
   "source": [
    "we can use a launch file to start all the nodes. \n",
    "We create a launch file \"LedChatter.launch\" in the \"hw_motion_plan\" package:"
   ]
  },
  {
   "cell_type": "code",
   "execution_count": null,
   "metadata": {},
   "outputs": [],
   "source": [
    "<launch>\n",
    "    <node name=\"serial_node\"        pkg=\"rosserial_python\"      type=\"serial_node.py\">\n",
    "    <param name=\"port\"              type=\"string\"               value=\"/dev/ttyACM0\"/>\n",
    "    <param name=\"baud\"              type=\"int\"                  value=\"57600\"/>\n",
    "    </node>\n",
    "\n",
    "    <node name=\"rUBot_ctrl_node\"        pkg=\"hw_motion_plan\"      type=\"PubSub_LedChatter.py\">\n",
    "    </node>\n",
    "\n",
    "</launch>"
   ]
  }
 ],
 "metadata": {
  "kernelspec": {
   "display_name": "Python 2",
   "language": "python",
   "name": "python2"
  },
  "language_info": {
   "codemirror_mode": {
    "name": "ipython",
    "version": 2
   },
   "file_extension": ".py",
   "mimetype": "text/x-python",
   "name": "python",
   "nbconvert_exporter": "python",
   "pygments_lexer": "ipython2",
   "version": "2.7.12"
  }
 },
 "nbformat": 4,
 "nbformat_minor": 2
}
