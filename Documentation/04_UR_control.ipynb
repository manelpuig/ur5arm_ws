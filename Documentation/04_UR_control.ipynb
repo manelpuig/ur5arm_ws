{
 "metadata": {
  "language_info": {
   "codemirror_mode": {
    "name": "ipython",
    "version": 3
   },
   "file_extension": ".py",
   "mimetype": "text/x-python",
   "name": "python",
   "nbconvert_exporter": "python",
   "pygments_lexer": "ipython3",
   "version": 3
  },
  "orig_nbformat": 2
 },
 "nbformat": 4,
 "nbformat_minor": 2,
 "cells": [
  {
   "source": [
    "# UR5 Kinematics control"
   ],
   "cell_type": "markdown",
   "metadata": {}
  },
  {
   "source": [
    "Detailed information will be found in readme file on: \n",
    "\n",
    "We will be able to simulate the forward and Inverse Kinematics:\n",
    "\n",
    "Tutorial\n",
    "http://docs.ros.org/en/melodic/api/moveit_tutorials/html/index.html\n",
    "\n",
    "Videos\n",
    "https://www.youtube.com/watch?v=b4T577d39dE\n",
    "\n",
    "https://www.youtube.com/watch?v=BxCik8OI1Fw"
   ],
   "cell_type": "markdown",
   "metadata": {}
  },
  {
   "source": [
    "### Specific package for Kinematics control\n",
    "\n",
    "We can create a specific package for kinematics control.\n",
    "\n",
    "Create the ur5control package with dependencies:\n",
    "- moveit_core \n",
    "- moveit_visual_tools \n",
    "- moveit_ros_planning_interface \n",
    "- interactive_markers \n",
    "- tf2_geometry_msgs"
   ],
   "cell_type": "markdown",
   "metadata": {}
  },
  {
   "cell_type": "code",
   "execution_count": null,
   "metadata": {},
   "outputs": [],
   "source": [
    "catkin_create_pkg ur5control rospy std_msgs moveit_core moveit_visual_tools moveit_ros_planning_interface interactive_markers tf2_geometry_msgs"
   ]
  },
  {
   "source": [
    "create a specific python file to control the UR5 arm movement"
   ],
   "cell_type": "markdown",
   "metadata": {}
  },
  {
   "cell_type": "code",
   "execution_count": null,
   "metadata": {},
   "outputs": [],
   "source": [
    "roslaunch ur5control move_group_python_interface_tutorial.launch "
   ]
  },
  {
   "source": [
    "Open moveIt! and verify the name of move_group=manipulator"
   ],
   "cell_type": "markdown",
   "metadata": {}
  }
 ]
}