{
 "metadata": {
  "language_info": {
   "codemirror_mode": {
    "name": "ipython",
    "version": 3
   },
   "file_extension": ".py",
   "mimetype": "text/x-python",
   "name": "python",
   "nbconvert_exporter": "python",
   "pygments_lexer": "ipython3",
   "version": 3
  },
  "orig_nbformat": 2
 },
 "nbformat": 4,
 "nbformat_minor": 2,
 "cells": [
  {
   "source": [
    "# UR5 Install"
   ],
   "cell_type": "markdown",
   "metadata": {}
  },
  {
   "source": [
    "The PC in Laboratory has a password access\n",
    "\n",
    "We have to install the driver and the arm description packages:\n",
    "- driver: https://github.com/UniversalRobots/Universal_Robots_ROS_Driver\n",
    "- Arm description package: https://github.com/fmauch/universal_robot/tree/calibration_devel\n",
    "\n",
    "This driver requires a system setup with ROS. It is recommended to use Ubuntu 18.04 with ROS melodic, however using Ubuntu 16.04 with ROS kinetic should also work.\n",
    "\n",
    "The driver consists of a C++ library that abstracts the robot's interfaces and a ROS driver on top of that.\n",
    "\n",
    "The instructions to build our workspace are (substitute \"catkin_ws\" by your workspace name):\n",
    "\n",
    "Carefull! These instructions have to be done only one time in your computer."
   ],
   "cell_type": "markdown",
   "metadata": {}
  },
  {
   "cell_type": "code",
   "execution_count": null,
   "metadata": {},
   "outputs": [],
   "source": [
    "# create a catkin workspace\n",
    "$ mkdir -p catkin_ws/src && cd catkin_ws\n",
    "\n",
    "# clone the driver\n",
    "$ git clone https://github.com/UniversalRobots/Universal_Robots_ROS_Driver.git src/Universal_Robots_ROS_Driver\n",
    "\n",
    "# clone fork of the description. This is currently necessary, until the changes are merged upstream.\n",
    "$ git clone -b calibration_devel https://github.com/fmauch/universal_robot.git src/fmauch_universal_robot\n",
    "\n",
    "# install dependencies\n",
    "$ sudo apt update -qq\n",
    "$ rosdep update\n",
    "$ rosdep install --from-paths src --ignore-src -y\n",
    "\n",
    "# build the workspace. We need an isolated build because of the non-catkin library package.\n",
    "$ catkin_make\n",
    "\n",
    "# activate the workspace (ie: source it)\n",
    "$ source devel/setup.bash"
   ]
  },
  {
   "source": [
    "## Install moveIt package\n",
    "The simplest way to install MoveIt is from pre-built binaries (Debian):"
   ],
   "cell_type": "markdown",
   "metadata": {}
  },
  {
   "cell_type": "code",
   "execution_count": null,
   "metadata": {},
   "outputs": [],
   "source": [
    "rosdep update\n",
    "sudo apt-get update\n",
    "sudo apt install ros-melodic-moveit"
   ]
  },
  {
   "source": [
    "\n",
    "The following will install from Debian any package dependencies not already in your workspace (change accordingly the ws_moveit name):"
   ],
   "cell_type": "markdown",
   "metadata": {}
  },
  {
   "cell_type": "code",
   "execution_count": null,
   "metadata": {},
   "outputs": [],
   "source": [
    "cd ~/ws_moveit/src\n",
    "rosdep install -y --from-paths . --ignore-src --rosdistro melodic"
   ]
  },
  {
   "source": [
    "The next command will configure your catkin workspace:"
   ],
   "cell_type": "markdown",
   "metadata": {}
  },
  {
   "cell_type": "code",
   "execution_count": null,
   "metadata": {},
   "outputs": [],
   "source": [
    "cd ~/ws_moveit\n",
    "catkin config --extend /opt/ros/${ROS_DISTRO} --cmake-args -DCMAKE_BUILD_TYPE=Release\n",
    "catkin build"
   ]
  },
  {
   "source": [
    "Verify the lasts lines in .bashrc file"
   ],
   "cell_type": "markdown",
   "metadata": {}
  },
  {
   "cell_type": "code",
   "execution_count": null,
   "metadata": {},
   "outputs": [],
   "source": [
    "source /opt/ros/melodic/setup.bash\n",
    "source ~/ur5arm_ws/devel/setup.bash\n",
    "export ROS_IP=192.168.18.92\n",
    "export ROS_MASTER_URI=http://localhost:11311\n"
   ]
  },
  {
   "source": [
    "## Real robot arm UR5e driver installation\n",
    "### Connection PC to UR\n",
    "\n",
    "Carefull!: These instructions are only for the PC dedicated to control the UR5e robot arm. This has not to be done on your personal computer where you only perform simulated tasks.\n",
    "\n",
    "We connect UR5 and PC with Ethernet cable\n",
    "\n",
    "Assign IP static address:\n",
    "\n",
    "- 192.168.2.1 to PC\n",
    "\n",
    "- try ifconfig first and take the interface name:enp2s0 (can change with PCs)"
   ],
   "cell_type": "markdown",
   "metadata": {}
  },
  {
   "cell_type": "code",
   "execution_count": null,
   "metadata": {},
   "outputs": [],
   "source": [
    "sudo ip addr add 192.168.2.1/24 dev enp6s0"
   ]
  },
  {
   "source": [
    "Define IP address to UR5:\n",
    "\n",
    "- 192.168.2.2"
   ],
   "cell_type": "markdown",
   "metadata": {}
  },
  {
   "source": [
    "## Prepare the robot\n",
    "For using the ur_robot_driver with a real robot you need to install the \"externalcontrol-1.0.4.urcap\" which can be found inside the resources folder of this driver.\n",
    "\n",
    "Follow the instructions to install this URCAP: https://github.com/UniversalRobots/Universal_Robots_ROS_Driver/blob/master/ur_robot_driver/doc/install_urcap_e_series.md"
   ],
   "cell_type": "markdown",
   "metadata": {}
  },
  {
   "source": [
    "## Prepare the ROS PC\n",
    "Each UR robot is calibrated inside the factory giving exact forward and inverse kinematics. To also make use of this in ROS, you first have to extract the calibration information from the robot.\n",
    "\n",
    "Though this step is not necessary to control the robot using this driver, it is highly recommended to do so, as otherwise endeffector positions might be off in the magnitude of centimeters.\n",
    "\n",
    "Callibration the real robot, run: (you have to do it only the first time!)"
   ],
   "cell_type": "markdown",
   "metadata": {}
  },
  {
   "cell_type": "code",
   "execution_count": null,
   "metadata": {},
   "outputs": [],
   "source": [
    "roslaunch ur_calibration calibration_correction.launch \\\n",
    "  robot_ip:=192.168.2.2 target_filename:=\"${HOME}/my_robot_calibration.yaml\""
   ]
  },
  {
   "source": [
    "For the parameter robot_ip insert the IP address on which the ROS pc can reach the robot. As target_filename provide an absolute path where the result will be saved to."
   ],
   "cell_type": "markdown",
   "metadata": {}
  },
  {
   "source": [
    "### Quick start\n",
    "Launch allways the ur5e_bringup.launch with the calibration file location:"
   ],
   "cell_type": "markdown",
   "metadata": {}
  },
  {
   "cell_type": "code",
   "execution_count": null,
   "metadata": {},
   "outputs": [],
   "source": [
    "roslaunch ur_robot_driver ur5e_bringup.launch robot_ip:=192.168.2.2 \\\n",
    "  kinematics_config:=\"${HOME}/my_robot_calibration.yaml\""
   ]
  },
  {
   "source": [
    "Once the robot driver is started, load the previously generated program on the robot panel that will start the External Control (in URCaps) program node and execute it. From that moment on the robot is fully functional. You can make use of the Pause function or even Stop (⏹️) the program. Simply press the Play button (▶️) again and the ROS driver will reconnect.\n",
    "\n",
    "You are ready to test:\n",
    "- Forward Kinematics \n",
    "- Inverse Kinematics"
   ],
   "cell_type": "markdown",
   "metadata": {}
  },
  {
   "source": [
    "### Forward Kinematics\n",
    "To control each joint angle, you need to install the pkg: rqt_joint_trajectory_controller\n"
   ],
   "cell_type": "markdown",
   "metadata": {}
  },
  {
   "cell_type": "code",
   "execution_count": null,
   "metadata": {},
   "outputs": [],
   "source": [
    "sudo apt-get install ros-melodic-rqt-joint-trajectory-controller"
   ]
  },
  {
   "cell_type": "code",
   "execution_count": null,
   "metadata": {},
   "outputs": [],
   "source": [
    "rosrun rqt_joint_trajectory_controller rqt_joint_trajectory_controller"
   ]
  },
  {
   "source": [
    "### Inverse Kinematics\n",
    "To place robot arm in a speciffic POSE you can:\n",
    "- use moveIt!\n",
    "- create a specific code in python"
   ],
   "cell_type": "markdown",
   "metadata": {}
  },
  {
   "source": [
    "#### Inverse Kinematics with moveIt!\n",
    "\n",
    "https://github.com/ros-industrial/universal_robot/tree/melodic-devel\n",
    "\n",
    "First launch the driver:\n"
   ],
   "cell_type": "markdown",
   "metadata": {}
  },
  {
   "cell_type": "code",
   "execution_count": null,
   "metadata": {},
   "outputs": [],
   "source": [
    "roslaunch ur_robot_driver ur5e_bringup.launch robot_ip:=192.168.2.2 \\\n",
    "  kinematics_config:=\"${HOME}/my_robot_calibration.yaml\""
   ]
  },
  {
   "source": [
    "Now you can find the \"controllers.yaml\" file in \"/home/mpuig/ur5arm_ws/src/fmauch_universal_robot/ur5_e_moveit_config/config/controllers.yaml\" and perform a modification:\n",
    "- The action_ns has to be changed from: follow_joint_trajectory to: scaled_pos_joint_traj_controller/follow_joint_trajectory\n",
    "\n",
    "Now you can use moveIt! for Inverse Kinematics with a real UR5e arm:"
   ],
   "cell_type": "markdown",
   "metadata": {}
  },
  {
   "cell_type": "code",
   "execution_count": null,
   "metadata": {},
   "outputs": [],
   "source": [
    "roslaunch ur5_e_moveit_config ur5_e_moveit_planning_execution.launch"
   ]
  },
  {
   "cell_type": "code",
   "execution_count": null,
   "metadata": {},
   "outputs": [],
   "source": [
    "roslaunch ur5_e_moveit_config moveit_rviz.launch config:=true"
   ]
  },
  {
   "source": [],
   "cell_type": "markdown",
   "metadata": {}
  }
 ]
}