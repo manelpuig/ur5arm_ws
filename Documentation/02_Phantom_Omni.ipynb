{
 "cells": [
  {
   "source": [
    "# Install Phantom-Omni\n",
    "\n",
    "The ROS instructions are: http://wiki.ros.org/phantom_omni\n",
    "\n",
    "The ROS repository is: https://github.com/danepowell/phantom_omni\n",
    "\n",
    "Development for Phantom-omni: \n",
    "- https://fsuarez6.github.io/projects/geomagic-touch-in-ros/\n",
    "- https://github.com/bharatm11/Geomagic_Touch_ROS_Drivers\n",
    "    \n",
    "Follow the instructions to install the device."
   ],
   "cell_type": "markdown",
   "metadata": {}
  }
 ],
 "metadata": {
  "kernelspec": {
   "display_name": "Python 2",
   "language": "python",
   "name": "python2"
  },
  "language_info": {
   "codemirror_mode": {
    "name": "ipython",
    "version": 2
   },
   "file_extension": ".py",
   "mimetype": "text/x-python",
   "name": "python",
   "nbconvert_exporter": "python",
   "pygments_lexer": "ipython2",
   "version": "2.7.12"
  }
 },
 "nbformat": 4,
 "nbformat_minor": 2
}