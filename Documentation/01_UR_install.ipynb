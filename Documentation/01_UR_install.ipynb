{
 "metadata": {
  "language_info": {
   "codemirror_mode": {
    "name": "ipython",
    "version": 3
   },
   "file_extension": ".py",
   "mimetype": "text/x-python",
   "name": "python",
   "nbconvert_exporter": "python",
   "pygments_lexer": "ipython3",
   "version": 3
  },
  "orig_nbformat": 2
 },
 "nbformat": 4,
 "nbformat_minor": 2,
 "cells": [
  {
   "source": [
    "# UR5 Install"
   ],
   "cell_type": "markdown",
   "metadata": {}
  },
  {
   "source": [
    "When working on ROS Melodic, for the latest features and developments you might want to build the packages from source. Source installs will not be automatically updated by new package releases and require more work to setup.\n",
    "\n",
    "The instructions to build our workspace are (substitute \"catkin_ws\" by your workspace name):"
   ],
   "cell_type": "markdown",
   "metadata": {}
  },
  {
   "cell_type": "code",
   "execution_count": null,
   "metadata": {},
   "outputs": [],
   "source": [
    "cd ~/catkin_ws/src\n",
    "\n",
    "# retrieve the sources \n",
    "git clone -b melodic-devel https://github.com/ros-industrial/universal_robot.git\n",
    "\n",
    "cd ~/catkin_ws\n",
    "\n",
    "# checking dependencies \n",
    "rosdep update\n",
    "rosdep install --rosdistro melodic --ignore-src --from-paths src\n",
    "\n",
    "# building\n",
    "catkin_make\n",
    "\n",
    "# activate this workspace\n",
    "source ~/catkin_ws/devel/setup.bash"
   ]
  },
  {
   "source": [
    "Verify the lasts lines in .bashrc file"
   ],
   "cell_type": "markdown",
   "metadata": {}
  },
  {
   "cell_type": "code",
   "execution_count": null,
   "metadata": {},
   "outputs": [],
   "source": [
    "source /opt/ros/melodic/setup.bash\n",
    "source ~/ur5arm_ws/devel/setup.bash\n",
    "export ROS_IP=192.168.18.92\n",
    "export ROS_MASTER_URI=http://localhost:11311\n"
   ]
  },
  {
   "source": [
    "## UR5 simulation"
   ],
   "cell_type": "markdown",
   "metadata": {}
  },
  {
   "source": [
    "###  in Gazebo\n",
    "\n",
    "There are launch files available to bringup a simulated robot in Gazebo.\n",
    "\n",
    "To bring up the simulated robot in Gazebo, run:"
   ],
   "cell_type": "markdown",
   "metadata": {}
  },
  {
   "cell_type": "code",
   "execution_count": null,
   "metadata": {},
   "outputs": [],
   "source": [
    "roslaunch ur_gazebo ur5.launch"
   ]
  },
  {
   "source": [
    "### MoveIt! with a simulated robot\n",
    "\n",
    "You can use MoveIt! to control the simulated robot.\n",
    "\n",
    "For setting up the MoveIt! nodes to allow motion planning run:"
   ],
   "cell_type": "markdown",
   "metadata": {}
  },
  {
   "cell_type": "code",
   "execution_count": null,
   "metadata": {},
   "outputs": [],
   "source": [
    "roslaunch ur5_moveit_config ur5_moveit_planning_execution.launch sim:=true"
   ]
  },
  {
   "source": [
    "<img src=\"./Images/1_ur5_gazebo1.png\">"
   ],
   "cell_type": "markdown",
   "metadata": {}
  },
  {
   "source": [
    "# MoveIt!\n",
    "Tutorial\n",
    "http://docs.ros.org/en/melodic/api/moveit_tutorials/html/index.html\n",
    "\n",
    "Videos\n",
    "https://www.youtube.com/watch?v=b4T577d39dE\n",
    "https://www.youtube.com/watch?v=BxCik8OI1Fw\n",
    "\n",
    "Gamepad Xbox360:\n",
    "https://www.amazon.es/dp/B0886GTMM2/ref=sspa_dk_detail_0?psc=1&pd_rd_i=B0886GTMM2&pd_rd_w=FyS9h&pf_rd_p=b39a6510-b997-4445-a1c4-cee175eeff20&pd_rd_wg=aDvTo&pf_rd_r=TAJCTPY4B5ZPF5HH6X9D&pd_rd_r=5774e3e1-ce0c-4005-8669-3cd1d7738859&spLa=ZW5jcnlwdGVkUXVhbGlmaWVyPUFYNjBFUFJFM0dJMFAmZW5jcnlwdGVkSWQ9QTAxMzQ4NjgxTDk5SDMzVlJHRzNMJmVuY3J5cHRlZEFkSWQ9QTA5MzAzNDQyVFVLTUMzNktISlFHJndpZGdldE5hbWU9c3BfZGV0YWlsJmFjdGlvbj1jbGlja1JlZGlyZWN0JmRvTm90TG9nQ2xpY2s9dHJ1ZQ==\n"
   ],
   "cell_type": "markdown",
   "metadata": {}
  }
 ]
}