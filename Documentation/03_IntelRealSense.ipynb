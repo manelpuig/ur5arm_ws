{
 "metadata": {
  "language_info": {
   "codemirror_mode": {
    "name": "ipython",
    "version": 3
   },
   "file_extension": ".py",
   "mimetype": "text/x-python",
   "name": "python",
   "nbconvert_exporter": "python",
   "pygments_lexer": "ipython3",
   "version": 3
  },
  "orig_nbformat": 2
 },
 "nbformat": 4,
 "nbformat_minor": 2,
 "cells": [
  {
   "source": [
    "# Install IntelRealSense 3D Camera\n",
    "\n",
    "The ROS Instructions are: http://wiki.ros.org/realsense2_camera\n",
    "\n",
    "The ROS repository is: https://github.com/IntelRealSense/realsense-ros\n"
   ],
   "cell_type": "markdown",
   "metadata": {}
  },
  {
   "source": [
    "realsense2_camera is available as a debian package of ROS distribution. It can be installed by typing:"
   ],
   "cell_type": "markdown",
   "metadata": {}
  },
  {
   "cell_type": "code",
   "execution_count": null,
   "metadata": {},
   "outputs": [],
   "source": [
    "sudo apt-get install ros-melodic-realsense2-camera"
   ]
  },
  {
   "source": [
    "realsense2_description is available as a separate debian package of ROS distribution. It includes the 3D-models of the devices and is necessary for running launch files that include these models (i.e. rs_d435_camera_with_model.launch). It can be installed by typing:"
   ],
   "cell_type": "markdown",
   "metadata": {}
  },
  {
   "cell_type": "code",
   "execution_count": null,
   "metadata": {},
   "outputs": [],
   "source": [
    "sudo apt-get install ros-melodic-realsense2-description"
   ]
  },
  {
   "source": [
    "check if you have 99-realsense-libusb.rules under /etc/udev/rules.d/\n",
    "\n",
    "You need to install Intel Realsense permission scripts located in librealsense source directory.\n",
    "\n",
    "Go to home directory:\n",
    "\n"
   ],
   "cell_type": "markdown",
   "metadata": {}
  },
  {
   "cell_type": "code",
   "execution_count": null,
   "metadata": {},
   "outputs": [],
   "source": [
    "git clone https://github.com/IntelRealSense/librealsense"
   ]
  },
  {
   "source": [
    "Next, run the following commands to copy the 99-realsense-libusb.rules files to the rules.d folder"
   ],
   "cell_type": "markdown",
   "metadata": {}
  },
  {
   "cell_type": "code",
   "execution_count": null,
   "metadata": {},
   "outputs": [],
   "source": [
    "sudo cp config/99-realsense-libusb.rules /etc/udev/rules.d/"
   ]
  },
  {
   "source": [
    "And, then udevadm control to modify the internal state of the running udev dameon to reload rules. Also, udevadm trigger to request device events from the kernel."
   ],
   "cell_type": "markdown",
   "metadata": {}
  },
  {
   "cell_type": "code",
   "execution_count": null,
   "metadata": {},
   "outputs": [],
   "source": [
    "sudo udevadm control --reload-rules\n",
    "sudo udevadm trigger"
   ]
  },
  {
   "source": [
    "# Usage Instructions\n",
    "\n",
    "## Start the camera node\n",
    "To start the camera node in ROS:"
   ],
   "cell_type": "markdown",
   "metadata": {}
  },
  {
   "cell_type": "code",
   "execution_count": null,
   "metadata": {},
   "outputs": [],
   "source": [
    "roslaunch realsense2_camera rs_camera.launch"
   ]
  },
  {
   "source": [
    "To connect the camera in VBox, select the Web Camera in \"Devices\" menu options.\n",
    "\n",
    "You can see all the nodes and topics:"
   ],
   "cell_type": "markdown",
   "metadata": {}
  },
  {
   "cell_type": "code",
   "execution_count": null,
   "metadata": {},
   "outputs": [],
   "source": [
    "/camera/realsense2_camera_manager/bond\n",
    "/rosout\n",
    "/rosout_agg"
   ]
  },
  {
   "source": [
    "## Point Cloud\n",
    "Here is an example of how to start the camera node and make it publish the point cloud using the pointcloud option."
   ],
   "cell_type": "markdown",
   "metadata": {}
  },
  {
   "cell_type": "code",
   "execution_count": null,
   "metadata": {},
   "outputs": [],
   "source": [
    "roslaunch realsense2_camera rs_camera.launch filters:=pointcloud"
   ]
  },
  {
   "source": [
    "Then open rviz to watch the pointcloud:\n",
    "- select fixed frame to \"camera_link\"\n",
    "- select PointCloud2 and the corresponding topic\n",
    "- select Image and the corresponding topic"
   ],
   "cell_type": "markdown",
   "metadata": {}
  },
  {
   "source": [
    "<img src=\"./Images/3_intel2.png\">"
   ],
   "cell_type": "markdown",
   "metadata": {}
  },
  {
   "cell_type": "code",
   "execution_count": null,
   "metadata": {},
   "outputs": [],
   "source": []
  }
 ]
}