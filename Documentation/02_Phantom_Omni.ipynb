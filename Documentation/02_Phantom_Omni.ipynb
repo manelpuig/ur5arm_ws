{
 "cells": [
  {
   "source": [
    "# Install Joystick\n",
    "\n",
    "The joy package is a ROS driver for a generic Linux joystick. The joy package contains joy_node, a node that interfaces a generic Linux joystick to ROS. This node publishes a \"Joy\" message, which contains the current state of each one of the joystick's buttons and axes.\n",
    "\n",
    "you have to install it from: http://wiki.ros.org/joy\n",
    "\n",
    "Tutorial: http://wiki.ros.org/joy/Tutorials/ConfiguringALinuxJoystick\n",
    "\n",
    "Install the required packages:"
   ],
   "cell_type": "markdown",
   "metadata": {}
  },
  {
   "cell_type": "code",
   "execution_count": null,
   "metadata": {},
   "outputs": [],
   "source": [
    "sudo apt-get install ros-melodic-teleop-twist-joy ros-melodic-joy ros-melodic-joy-teleop"
   ]
  },
  {
   "cell_type": "code",
   "execution_count": null,
   "metadata": {},
   "outputs": [],
   "source": [
    "rosrun joy joy_node dev:=/dev/input/js1\n",
    "rosrun joy_teleop joy_teleop.py\n",
    "roslaunch teleop_twist_joy teleop.launch"
   ]
  },
  {
   "source": [
    "# Install Phantom-Omni\n",
    "\n",
    "The ROS instructions are: http://wiki.ros.org/phantom_omni\n",
    "\n",
    "The ROS repository is: https://github.com/danepowell/phantom_omni\n",
    "\n",
    "Development for Phantom-omni: \n",
    "- https://fsuarez6.github.io/projects/geomagic-touch-in-ros/\n",
    "- https://github.com/bharatm11/Geomagic_Touch_ROS_Drivers\n",
    "    \n",
    "Follow the instructions to install the device."
   ],
   "cell_type": "markdown",
   "metadata": {}
  }
 ],
 "metadata": {
  "kernelspec": {
   "display_name": "Python 2",
   "language": "python",
   "name": "python2"
  },
  "language_info": {
   "codemirror_mode": {
    "name": "ipython",
    "version": 2
   },
   "file_extension": ".py",
   "mimetype": "text/x-python",
   "name": "python",
   "nbconvert_exporter": "python",
   "pygments_lexer": "ipython2",
   "version": "2.7.12"
  }
 },
 "nbformat": 4,
 "nbformat_minor": 2
}