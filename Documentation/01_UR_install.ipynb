{
 "metadata": {
  "language_info": {
   "codemirror_mode": {
    "name": "ipython",
    "version": 3
   },
   "file_extension": ".py",
   "mimetype": "text/x-python",
   "name": "python",
   "nbconvert_exporter": "python",
   "pygments_lexer": "ipython3",
   "version": 3
  },
  "orig_nbformat": 2
 },
 "nbformat": 4,
 "nbformat_minor": 2,
 "cells": [
  {
   "source": [
    "# UR5 Install"
   ],
   "cell_type": "markdown",
   "metadata": {}
  },
  {
   "source": [
    "This driver requires a system setup with ROS. It is recommended to use Ubuntu 18.04 with ROS melodic, however using Ubuntu 16.04 with ROS kinetic should also work.\n",
    "\n",
    "The driver consists of a C++ library that abstracts the robot's interfaces and a ROS driver on top of that.\n",
    "\n",
    "https://github.com/UniversalRobots/Universal_Robots_ROS_Driver\n",
    "\n",
    "\n",
    "\n",
    "The instructions to build our workspace are (substitute \"catkin_ws\" by your workspace name):"
   ],
   "cell_type": "markdown",
   "metadata": {}
  },
  {
   "cell_type": "code",
   "execution_count": null,
   "metadata": {},
   "outputs": [],
   "source": [
    "# create a catkin workspace\n",
    "$ mkdir -p catkin_ws/src && cd catkin_ws\n",
    "\n",
    "# clone the driver\n",
    "$ git clone https://github.com/UniversalRobots/Universal_Robots_ROS_Driver.git src/Universal_Robots_ROS_Driver\n",
    "\n",
    "# clone fork of the description. This is currently necessary, until the changes are merged upstream.\n",
    "$ git clone -b calibration_devel https://github.com/fmauch/universal_robot.git src/fmauch_universal_robot\n",
    "\n",
    "# install dependencies\n",
    "$ sudo apt update -qq\n",
    "$ rosdep update\n",
    "$ rosdep install --from-paths src --ignore-src -y\n",
    "\n",
    "# build the workspace. We need an isolated build because of the non-catkin library package.\n",
    "$ catkin_make\n",
    "\n",
    "# activate the workspace (ie: source it)\n",
    "$ source devel/setup.bash"
   ]
  },
  {
   "source": [
    "Verify the lasts lines in .bashrc file"
   ],
   "cell_type": "markdown",
   "metadata": {}
  },
  {
   "cell_type": "code",
   "execution_count": null,
   "metadata": {},
   "outputs": [],
   "source": [
    "source /opt/ros/melodic/setup.bash\n",
    "source ~/ur5arm_ws/devel/setup.bash\n",
    "export ROS_IP=192.168.18.92\n",
    "export ROS_MASTER_URI=http://localhost:11311\n"
   ]
  },
  {
   "source": [
    "## Prepare the robot\n",
    "For using the ur_robot_driver with a real robot you need to install the externalcontrol-1.0.4.urcap which can be found inside the resources folder of this driver."
   ],
   "cell_type": "markdown",
   "metadata": {}
  },
  {
   "source": [
    "## Prepare the ROS PC\n",
    "Each UR robot is calibrated inside the factory giving exact forward and inverse kinematics. To also make use of this in ROS, you first have to extract the calibration information from the robot.\n",
    "\n",
    "Though this step is not necessary to control the robot using this driver, it is highly recommended to do so, as otherwise endeffector positions might be off in the magnitude of centimeters."
   ],
   "cell_type": "markdown",
   "metadata": {}
  },
  {
   "source": [
    "### Quick start\n",
    "If you calibrated your robot before, pass that calibration to the launch file:"
   ],
   "cell_type": "markdown",
   "metadata": {}
  },
  {
   "source": [
    "## UR5 simulation"
   ],
   "cell_type": "markdown",
   "metadata": {}
  },
  {
   "source": [
    "###  in Gazebo\n",
    "\n",
    "There are launch files available to bringup a simulated robot in Gazebo.\n",
    "\n",
    "To bring up the simulated robot in Gazebo, run:"
   ],
   "cell_type": "markdown",
   "metadata": {}
  },
  {
   "cell_type": "code",
   "execution_count": null,
   "metadata": {},
   "outputs": [],
   "source": [
    "roslaunch ur_gazebo ur5.launch"
   ]
  },
  {
   "cell_type": "code",
   "execution_count": null,
   "metadata": {},
   "outputs": [],
   "source": [
    "rosrun rqt_joint_trajectory_controller rqt_joint_trajectory_controller"
   ]
  },
  {
   "source": [
    "### MoveIt! with a simulated robot\n",
    "\n",
    "You can use MoveIt! to control the simulated robot.\n",
    "\n",
    "\n",
    "https://github.com/ros-industrial/universal_robot/tree/melodic-devel\n",
    "\n",
    "For setting up the MoveIt! nodes to allow motion planning run:"
   ],
   "cell_type": "markdown",
   "metadata": {}
  },
  {
   "cell_type": "code",
   "execution_count": null,
   "metadata": {},
   "outputs": [],
   "source": [
    "roslaunch ur5_moveit_config ur5_moveit_planning_execution.launch sim:=true"
   ]
  },
  {
   "source": [
    "<img src=\"./Images/1_ur5_gazebo1.png\">"
   ],
   "cell_type": "markdown",
   "metadata": {}
  },
  {
   "source": [
    "For starting up RViz with a configuration including the MoveIt! Motion Planning plugin run:"
   ],
   "cell_type": "markdown",
   "metadata": {}
  },
  {
   "cell_type": "code",
   "execution_count": null,
   "metadata": {},
   "outputs": [],
   "source": [
    "roslaunch ur5_moveit_config moveit_rviz.launch config:=true"
   ]
  },
  {
   "source": [
    "# MoveIt!\n",
    "Tutorial\n",
    "http://docs.ros.org/en/melodic/api/moveit_tutorials/html/index.html\n",
    "\n",
    "Videos\n",
    "https://www.youtube.com/watch?v=b4T577d39dE\n",
    "https://www.youtube.com/watch?v=BxCik8OI1Fw\n",
    "\n",
    "Gamepad Xbox360:\n",
    "https://www.amazon.es/dp/B0886GTMM2/ref=sspa_dk_detail_0?psc=1&pd_rd_i=B0886GTMM2&pd_rd_w=FyS9h&pf_rd_p=b39a6510-b997-4445-a1c4-cee175eeff20&pd_rd_wg=aDvTo&pf_rd_r=TAJCTPY4B5ZPF5HH6X9D&pd_rd_r=5774e3e1-ce0c-4005-8669-3cd1d7738859&spLa=ZW5jcnlwdGVkUXVhbGlmaWVyPUFYNjBFUFJFM0dJMFAmZW5jcnlwdGVkSWQ9QTAxMzQ4NjgxTDk5SDMzVlJHRzNMJmVuY3J5cHRlZEFkSWQ9QTA5MzAzNDQyVFVLTUMzNktISlFHJndpZGdldE5hbWU9c3BfZGV0YWlsJmFjdGlvbj1jbGlja1JlZGlyZWN0JmRvTm90TG9nQ2xpY2s9dHJ1ZQ==\n"
   ],
   "cell_type": "markdown",
   "metadata": {}
  },
  {
   "source": [
    "### Kinematics control\n",
    "\n",
    "We create a ur5control package with dependencies:\n",
    "moveit_core moveit_visual_tools moveit_ros_planning_interface interactive_markers tf2_geometry_msgs"
   ],
   "cell_type": "markdown",
   "metadata": {}
  },
  {
   "cell_type": "code",
   "execution_count": null,
   "metadata": {},
   "outputs": [],
   "source": [
    "catkin_create_pkg ur5control rospy std_msgs moveit_core moveit_visual_tools moveit_ros_planning_interface interactive_markers tf2_geometry_msgs"
   ]
  },
  {
   "source": [
    "Open moveIt! and verify the name of move_group=manipulator"
   ],
   "cell_type": "markdown",
   "metadata": {}
  },
  {
   "source": [
    "## UR5 real\n",
    "\n"
   ],
   "cell_type": "markdown",
   "metadata": {}
  },
  {
   "source": [
    "### Connection\n",
    "\n",
    "We connect UR5 and PC with Ethernet cable\n",
    "\n",
    "Assign IP static address:\n",
    "\n",
    "192.168.1.1 to PC\n",
    "\n",
    "try ifconfig first and take the interface name:enp2s0 (can change with PCs)"
   ],
   "cell_type": "markdown",
   "metadata": {}
  },
  {
   "cell_type": "code",
   "execution_count": null,
   "metadata": {},
   "outputs": [],
   "source": [
    "sudo ip addr add 192.168.1.1/24 dev enp2s0"
   ]
  },
  {
   "source": [
    "Define:\n",
    "\n",
    "192.168.1.2 to UR5"
   ],
   "cell_type": "markdown",
   "metadata": {}
  },
  {
   "source": [
    "Callibration the real robot, run:"
   ],
   "cell_type": "markdown",
   "metadata": {}
  },
  {
   "cell_type": "code",
   "execution_count": null,
   "metadata": {},
   "outputs": [],
   "source": [
    "roslaunch ur_calibration calibration_correction.launch \\\n",
    "  robot_ip:=<robot_ip> target_filename:=\"${HOME}/my_robot_calibration.yaml\""
   ]
  },
  {
   "source": [
    "If you calibrated your robot before, pass that calibration to the launch file:"
   ],
   "cell_type": "markdown",
   "metadata": {}
  },
  {
   "cell_type": "code",
   "execution_count": null,
   "metadata": {},
   "outputs": [],
   "source": [
    "roslaunch ur_robot_driver ur5_e_bringup.launch robot_ip:=192.168.1.2 \\\n",
    "  kinematics_config:=\"${HOME}/my_robot_calibration.yaml\""
   ]
  },
  {
   "source": [
    "You are ready to test de FK and IK\n",
    "\n",
    "You need to install the pkg: rqt_joint_trajectory_controller"
   ],
   "cell_type": "markdown",
   "metadata": {}
  },
  {
   "cell_type": "code",
   "execution_count": null,
   "metadata": {},
   "outputs": [],
   "source": [
    "sudo apt-get install ros-melodic-rqt-joint-trajectory-controller"
   ]
  },
  {
   "source": [
    "Test the FK"
   ],
   "cell_type": "markdown",
   "metadata": {}
  },
  {
   "cell_type": "code",
   "execution_count": null,
   "metadata": {},
   "outputs": [],
   "source": [
    "rosrun rqt_joint_trajectory_controller rqt_joint_trajectory_controller"
   ]
  },
  {
   "source": [
    "Tho use moveIt!\n",
    "\n",
    "https://github.com/ros-industrial/universal_robot/tree/melodic-devel\n",
    "\n",
    "First launch the driver:\n"
   ],
   "cell_type": "markdown",
   "metadata": {}
  },
  {
   "cell_type": "code",
   "execution_count": null,
   "metadata": {},
   "outputs": [],
   "source": [
    "roslaunch ur_robot_driver ur5_e_bringup.launch robot_ip:=192.168.1.2 \\\n",
    "  kinematics_config:=\"${HOME}/my_robot_calibration.yaml\""
   ]
  },
  {
   "source": [
    "you have first to modify the file: https://github.com/ros-industrial/universal_robot/blob/kinetic-devel/ur5_e_moveit_config/config/controllers.yaml\n",
    "\n",
    "The action_ns has to be changed to: scaled_pos_joint_traj_controller/follow_joint_trajectory"
   ],
   "cell_type": "markdown",
   "metadata": {}
  },
  {
   "cell_type": "code",
   "execution_count": null,
   "metadata": {},
   "outputs": [],
   "source": [
    "roslaunch ur5_e_moveit_config ur5_e_moveit_planning_execution.launch"
   ]
  },
  {
   "cell_type": "code",
   "execution_count": null,
   "metadata": {},
   "outputs": [],
   "source": [
    "roslaunch ur5_e_moveit_config moveit_rviz.launch config:=true\n",
    "\n"
   ]
  },
  {
   "source": [],
   "cell_type": "markdown",
   "metadata": {}
  }
 ]
}