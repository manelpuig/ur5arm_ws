{
 "metadata": {
  "language_info": {
   "codemirror_mode": {
    "name": "ipython",
    "version": 3
   },
   "file_extension": ".py",
   "mimetype": "text/x-python",
   "name": "python",
   "nbconvert_exporter": "python",
   "pygments_lexer": "ipython3",
   "version": 3
  },
  "orig_nbformat": 2
 },
 "nbformat": 4,
 "nbformat_minor": 2,
 "cells": [
  {
   "source": [
    "# UR5 Motion Planning programatically\n",
    "\n",
    "This unit will show you how to perform motion planning with Python. By completing this unit, you will be able to create a Python program that performs motion planning on your robot.\n",
    "\n",
    "Detailed information will be found in readme file on: \n",
    "https://app.theconstructsim.com/en/catalog/course/#/Desktop"
   ],
   "cell_type": "markdown",
   "metadata": {}
  },
  {
   "source": [
    "### Motion Planning\n",
    "Motion planning bascially means to plan a movement (motion) from point A to point B, without colliding with anything.\n",
    "\n",
    "In other words, you will need to be able to control the different joints and links of your robot, avoiding collisions between them or with other elements in the environment."
   ],
   "cell_type": "markdown",
   "metadata": {}
  },
  {
   "source": [
    "In the previous section, you saw that you can plan and execute trajectories for your robot using the MoveIt Rviz environment. But... this is not the common case.\n",
    "\n",
    "Usually, you will want to move your robot with your own scripts. And this is exactly what we are going to do in this chapter! For this course, we are going to use Python to control the robot, because it's easier and faster.\n",
    "\n",
    "Anyways, let's go step by step. The 1st thing you will have to do is to use a MoveIt package for the Fetch robot. We will use the \"ur5_e_moveit_config\" package. So... let's go!"
   ],
   "cell_type": "markdown",
   "metadata": {}
  },
  {
   "source": [
    "## Interacting with the UR5e simulated robot\n",
    "Perform first a simple exercise to see the difference with the Graphical Interface\n",
    "### UR5e robot control using graphical interface\n",
    "You will:\n",
    "- spawn the ur5e robot in an empty world\n",
    "- Connect this MoveIt package to the simulated robot\n",
    "- Plan and execute trajectories using MoveIt, and that these trajectories apply to the simulated robot."
   ],
   "cell_type": "markdown",
   "metadata": {}
  },
  {
   "cell_type": "code",
   "execution_count": null,
   "metadata": {},
   "outputs": [],
   "source": [
    "roslaunch ur_e_gazebo ur5e.launch limited:=true\n",
    "roslaunch ur5_e_moveit_config ur5_e_moveit_planning_execution.launch sim:=true limited:=true\n",
    "roslaunch ur5_e_moveit_config moveit_rviz.launch config:=true"
   ]
  },
  {
   "source": [
    "<img src=\"./Images/2_gazebo_rviz_IK.png\">"
   ],
   "cell_type": "markdown",
   "metadata": {}
  },
  {
   "cell_type": "code",
   "execution_count": null,
   "metadata": {},
   "outputs": [],
   "source": [
    "Great! So now that you have created the MoveIt package, you're ready to begin with the main goal of this chapter! Well, almost ready..."
   ]
  },
  {
   "source": [
    "### Planning a trajectory\n",
    "As you've seen in the previous chapter, there is a difference between planning a trajectory, and executing it. In this first part of the chapter, we are going to see how to plan a trajectory with Python. \n",
    "\n",
    "For that, just follow the next steps:\n",
    "\n",
    "1. Setup the ur5e robot and connect it to the moveit package"
   ],
   "cell_type": "markdown",
   "metadata": {}
  },
  {
   "source": [
    "roslaunch ur_e_gazebo ur5e.launch limited:=true\n",
    "roslaunch ur5_e_moveit_config ur5_e_moveit_planning_execution.launch sim:=true limited:=true\n",
    "roslaunch ur5_e_moveit_config moveit_rviz.launch config:=true"
   ],
   "cell_type": "code",
   "metadata": {},
   "execution_count": null,
   "outputs": []
  },
  {
   "source": [
    "2. Create a new \"ur5control\" package with a python file for a specific trajectory"
   ],
   "cell_type": "markdown",
   "metadata": {}
  },
  {
   "cell_type": "code",
   "execution_count": null,
   "metadata": {},
   "outputs": [],
   "source": [
    "cd ~/ur5arm_ws/ur5control/src\n",
    "touch motion_planning_program.py\n",
    "chmod +x ur5e_motion_planning_program1.py"
   ]
  },
  {
   "source": [
    "The python file could be this one:"
   ],
   "cell_type": "markdown",
   "metadata": {}
  },
  {
   "cell_type": "code",
   "execution_count": null,
   "metadata": {},
   "outputs": [],
   "source": [
    "#! /usr/bin/env python\n",
    "\n",
    "import sys\n",
    "import copy\n",
    "import rospy\n",
    "import moveit_commander\n",
    "import moveit_msgs.msg\n",
    "import geometry_msgs.msg\n",
    "\n",
    "moveit_commander.roscpp_initialize(sys.argv)\n",
    "rospy.init_node('move_group_python_interface_tutorial', anonymous=True)\n",
    "\n",
    "robot = moveit_commander.RobotCommander()\n",
    "scene = moveit_commander.PlanningSceneInterface()    \n",
    "group = moveit_commander.MoveGroupCommander(\"manipulator\")\n",
    "display_trajectory_publisher = rospy.Publisher('/move_group/display_planned_path', moveit_msgs.msg.DisplayTrajectory, queue_size=1)\n",
    "\n",
    "pose_target = geometry_msgs.msg.Pose()\n",
    "pose_target.orientation.w = 1.0\n",
    "pose_target.position.x = 0.96\n",
    "pose_target.position.y = 0\n",
    "pose_target.position.z = 1.18\n",
    "group.set_pose_target(pose_target)\n",
    "\n",
    "plan1 = group.plan()\n",
    "\n",
    "rospy.sleep(5)\n",
    "\n",
    "moveit_commander.roscpp_shutdown()"
   ]
  },
  {
   "source": [
    "execute this file:\n",
    "\n",
    "cd ~/ur5arm_ws/ur5control/src\n",
    "\n",
    "python ur5e_motion_planning_program1.py"
   ],
   "cell_type": "markdown",
   "metadata": {}
  }
 ]
}