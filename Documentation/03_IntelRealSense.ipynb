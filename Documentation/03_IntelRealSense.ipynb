{
 "metadata": {
  "language_info": {
   "codemirror_mode": {
    "name": "ipython",
    "version": 3
   },
   "file_extension": ".py",
   "mimetype": "text/x-python",
   "name": "python",
   "nbconvert_exporter": "python",
   "pygments_lexer": "ipython3",
   "version": 3
  },
  "orig_nbformat": 2
 },
 "nbformat": 4,
 "nbformat_minor": 2,
 "cells": [
  {
   "source": [
    "# UR5 Install"
   ],
   "cell_type": "markdown",
   "metadata": {}
  },
  {
   "source": [
    "When working on ROS Melodic, for the latest features and developments you might want to build the packages from source. Source installs will not be automatically updated by new package releases and require more work to setup.\n",
    "\n",
    "The instructions to build our workspace are (substitute \"catkin_ws\" by your workspace name):"
   ],
   "cell_type": "markdown",
   "metadata": {}
  },
  {
   "cell_type": "code",
   "execution_count": null,
   "metadata": {},
   "outputs": [],
   "source": [
    "cd ~/catkin_ws/src\n",
    "\n",
    "# retrieve the sources \n",
    "git clone -b melodic-devel https://github.com/ros-industrial/universal_robot.git\n",
    "\n",
    "cd ~/catkin_ws\n",
    "\n",
    "# checking dependencies \n",
    "rosdep update\n",
    "rosdep install --rosdistro melodic --ignore-src --from-paths src\n",
    "\n",
    "# building\n",
    "catkin_make\n",
    "\n",
    "# activate this workspace\n",
    "source ~/catkin_ws/devel/setup.bash"
   ]
  },
  {
   "source": [
    "Verify the lasts lines in .bashrc file"
   ],
   "cell_type": "markdown",
   "metadata": {}
  },
  {
   "cell_type": "code",
   "execution_count": null,
   "metadata": {},
   "outputs": [],
   "source": [
    "source /opt/ros/melodic/setup.bash\n",
    "source ~/ur5arm_ws/devel/setup.bash\n",
    "export ROS_IP=192.168.18.92\n",
    "export ROS_MASTER_URI=http://localhost:11311\n"
   ]
  },
  {
   "source": [
    "## UR5 simulation"
   ],
   "cell_type": "markdown",
   "metadata": {}
  },
  {
   "source": [
    "###  in Gazebo\n",
    "\n",
    "There are launch files available to bringup a simulated robot in Gazebo.\n",
    "\n",
    "To bring up the simulated robot in Gazebo, run:"
   ],
   "cell_type": "markdown",
   "metadata": {}
  },
  {
   "cell_type": "code",
   "execution_count": null,
   "metadata": {},
   "outputs": [],
   "source": [
    "roslaunch ur_gazebo ur5.launch"
   ]
  },
  {
   "source": [
    "### MoveIt! with a simulated robot\n",
    "\n",
    "You can use MoveIt! to control the simulated robot.\n",
    "\n",
    "For setting up the MoveIt! nodes to allow motion planning run:"
   ],
   "cell_type": "markdown",
   "metadata": {}
  },
  {
   "cell_type": "code",
   "execution_count": null,
   "metadata": {},
   "outputs": [],
   "source": [
    "roslaunch ur5_moveit_config ur5_moveit_planning_execution.launch sim:=true"
   ]
  },
  {
   "source": [
    "<img src=\"./Images/1_ur5_gazebo1.png\">"
   ],
   "cell_type": "markdown",
   "metadata": {}
  },
  {
   "source": [
    "## Install Phantom-Omni\n",
    "\n",
    "The ROS instructions are: http://wiki.ros.org/phantom_omni\n",
    "\n",
    "The ROS repository is: https://github.com/danepowell/phantom_omni\n",
    "\n",
    "Follow the instructions to install the device."
   ],
   "cell_type": "markdown",
   "metadata": {}
  },
  {
   "source": [
    "## Install IntelRealSense 3D Camera\n",
    "\n",
    "The ROS Instructions are: http://wiki.ros.org/realsense2_camera\n",
    "\n",
    "The ROS repository is: https://github.com/IntelRealSense/realsense-ros\n"
   ],
   "cell_type": "markdown",
   "metadata": {}
  },
  {
   "source": [
    "## Install Dynamixel drivers\n",
    "\n",
    "\n",
    "The ROS instructions for Dynamixel are: http://wiki.ros.org/dynamixel\n",
    "\n",
    "Some tutorials: http://wiki.ros.org/dynamixel_controllers/Tutorials\n",
    "\n",
    "The ROBOTIS emanual for Dynamixel Workbench: https://emanual.robotis.com/docs/en/software/dynamixel/dynamixel_workbench/\n",
    "\n",
    "The purpose of DYNAMIXEL Workbench is to use more simple and easy to use any DYNAMIXEL. This library is based on DYNAMIXEL SDK and supports ROS, Linux, macOS and Arduino. However, this library is not magic stick to operate DYNAMIXEL with any setup. It has some restriction compared with DYNAMIXEL SDK but we are continue to upgrade this library for almost everyone loves DYNAMIXEL.\n",
    "\n",
    "DYNAMIXEL Workbench is designed to control DYNAMIXEL in ROS with limited features.\n",
    "\n",
    "To install this package, follow the instructions:\n",
    "- Download the ROS packages in src folder and compile with catkin_make:\n"
   ],
   "cell_type": "markdown",
   "metadata": {}
  },
  {
   "cell_type": "code",
   "execution_count": null,
   "metadata": {},
   "outputs": [],
   "source": [
    "git clone https://github.com/ROBOTIS-GIT/dynamixel-workbench.git\n",
    "git clone https://github.com/ROBOTIS-GIT/dynamixel-workbench-msgs.git\n",
    "git clone https://github.com/ROBOTIS-GIT/DynamixelSDK.git"
   ]
  },
  {
   "source": [
    "- Install Arduino IDE for uploding firmware to OpenCM9.04C\n",
    "    - https://emanual.robotis.com/docs/en/parts/controller/opencm904/#hardware\n",
    "    - (https://emanual.robotis.com/docs/en/software/arduino_ide/#software-installation)\n",
    "- Install OpenCM9.04 board from Board Manager\n",
    "- Install DYNAMIXEL2Arduino library from Library Manager\n",
    "- test with different exemples"
   ],
   "cell_type": "markdown",
   "metadata": {}
  }
 ]
}