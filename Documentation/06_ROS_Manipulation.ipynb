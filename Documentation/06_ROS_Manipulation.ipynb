{
 "metadata": {
  "language_info": {
   "codemirror_mode": {
    "name": "ipython",
    "version": 3
   },
   "file_extension": ".py",
   "mimetype": "text/x-python",
   "name": "python",
   "nbconvert_exporter": "python",
   "pygments_lexer": "ipython3",
   "version": 3
  },
  "orig_nbformat": 2
 },
 "nbformat": 4,
 "nbformat_minor": 2,
 "cells": [
  {
   "source": [
    "# UR5 ROS Manipulation"
   ],
   "cell_type": "markdown",
   "metadata": {}
  },
  {
   "source": [
    "Detailed information will be found in readme file on: \n",
    "https://app.theconstructsim.com/en/catalog/course/#/Desktop\n",
    "\n",
    "Basically, you'll need to go through the following 4 main topics:\n",
    "- MoveIt\n",
    "- Motion Planning\n",
    "- Perception\n",
    "- Grasping"
   ],
   "cell_type": "markdown",
   "metadata": {}
  },
  {
   "source": [
    "### MoveIt!\n",
    "\n",
    "MoveIt is a set of packages and tools that allow you to perform manipulation with ROS. MoveIt provides software and tools in order to do Motion Planning, Manipulation, Perception, Kinematics, Collision Checking, Control, and Navigation. \n",
    "\n",
    "It is a huge and very useful tool, and it is basic knowledge if you want to learn about ROS Manipulation. \n",
    "\n",
    "You can learn more about it by checking all of its documentation on the official website: http://moveit.ros.org\n",
    "\n",
    "Set the robot arm in MoveIt!"
   ],
   "cell_type": "markdown",
   "metadata": {}
  },
  {
   "cell_type": "code",
   "execution_count": null,
   "metadata": {},
   "outputs": [],
   "source": [
    "roslaunch ur_e_gazebo ur5e.launch limited:=true\n",
    "roslaunch ur5_e_moveit_config ur5_e_moveit_planning_execution.launch sim:=true limited:=true\n",
    "roslaunch ur5_e_moveit_config moveit_rviz.launch config:=true"
   ]
  },
  {
   "source": [
    "### Motion Planning\n",
    "Motion planning bascially means to plan a movement (motion) from point A to point B, without colliding with anything.\n",
    "\n",
    "In other words, you will need to be able to control the different joints and links of your robot, avoiding collisions between them or with other elements in the environment."
   ],
   "cell_type": "markdown",
   "metadata": {}
  },
  {
   "source": [
    "create a specific python file \"basic_concepts.py\" to control the UR5 arm movement"
   ],
   "cell_type": "markdown",
   "metadata": {}
  },
  {
   "cell_type": "code",
   "execution_count": null,
   "metadata": {},
   "outputs": [],
   "source": [
    "#! /usr/bin/env python\n",
    "\n",
    "import sys\n",
    "import copy\n",
    "import rospy\n",
    "import moveit_commander\n",
    "import moveit_msgs.msg\n",
    "import geometry_msgs.msg\n",
    "\n",
    "moveit_commander.roscpp_initialize(sys.argv)\n",
    "rospy.init_node('move_group_python_interface_tutorial', anonymous=True)\n",
    "\n",
    "robot = moveit_commander.RobotCommander()\n",
    "scene = moveit_commander.PlanningSceneInterface()    \n",
    "group = moveit_commander.MoveGroupCommander(\"arm\")\n",
    "display_trajectory_publisher = rospy.Publisher('/move_group/display_planned_path', moveit_msgs.msg.DisplayTrajectory, queue_size=1)\n",
    "\n",
    "group_variable_values = group.get_current_joint_values()\n",
    "\n",
    "group_variable_values[1] = -1.5\n",
    "group.set_joint_value_target(group_variable_values)\n",
    "\n",
    "plan2 = group.plan()\n",
    "\n",
    "rospy.sleep(5)\n",
    "group.go(wait=True)\n",
    "rospy.sleep(5)\n",
    "\n",
    "group_variable_values[2] = 1.5\n",
    "group.set_joint_value_target(group_variable_values)\n",
    "\n",
    "plan2 = group.plan()\n",
    "\n",
    "rospy.sleep(5)\n",
    "group.go(wait=True)\n",
    "rospy.sleep(5)\n",
    "\n",
    "moveit_commander.roscpp_shutdown()"
   ]
  },
  {
   "source": [
    "Run the script:"
   ],
   "cell_type": "markdown",
   "metadata": {}
  },
  {
   "cell_type": "code",
   "execution_count": null,
   "metadata": {},
   "outputs": [],
   "source": [
    "rosrun ur5control basic_concepts.py"
   ]
  },
  {
   "source": [
    "<img src=\"./Images/6_moveit_manip1.png\">"
   ],
   "cell_type": "markdown",
   "metadata": {}
  },
  {
   "cell_type": "code",
   "execution_count": null,
   "metadata": {},
   "outputs": [],
   "source": []
  },
  {
   "source": [
    "Carefull!: verify the name of planning_group=manipulator"
   ],
   "cell_type": "markdown",
   "metadata": {}
  },
  {
   "source": [
    "### Perception\n",
    "In order to be able to interact with any object in the environment, you first need to be able to visualize it. You need to know where it is, how it is, etc... and that's what Perception is for!\n",
    "\n",
    "Perception is usually done using RGBD cameras, like a Kinect. In the following Demo, you'll have a look at the data that the Kinect camera placed in the simulation is capturing.\n"
   ],
   "cell_type": "markdown",
   "metadata": {}
  },
  {
   "source": [
    "### Grasping\n",
    "Finally, you'll need to know about Grasping. And what is Grasping? Well, the word Grasping refers to the action of catching an object from the environment in order to do an action with it; for instance, change its position. Inside the Grasping process, there are other variables that take place, such as the Perception of the environment.\n",
    "\n",
    "Even though Grasping may look like a very easy and simple task, it is not. Not at all! There are lots of variables that need to be taken into account, and there are lots of things that can go wrong!"
   ],
   "cell_type": "markdown",
   "metadata": {}
  },
  {
   "source": [
    "## Motion Planning using Graphical Interfaces\n",
    "### Part 1. Create a MoveIt package\n",
    "This unit will show you how to create a MoveIt Package for your industrial robot. By completing this unit, you will be able to create a package that allows your robot to perform motion planning.\n",
    "\n",
    "MoveIt is a ROS framework that allows you to perform motion planning with a specific robot. And... what does this mean? Well, it basically means that it allows you to plan a movement (motion) from point A to point B, without colliding with anything.\n",
    "\n",
    "Fortunately, MoveIt provides a very nice and easy-to-use GUI, which will help us to be able to interact with the robot in order to perform motion planning. However, before being able to actually use MoveIt, we need to build a package. This package will generate all the configuration and launch files required for using our defined robot (the one that is defined in the URDF file) with MoveIt.\n",
    "\n",
    "In order to generate this package, just follow all the steps described in the following exercise!\n",
    "\n",
    "Install the ROS package:\n",
    "https://github.com/RobotnikAutomation/summit_xl_common/tree/melodic-devel"
   ],
   "cell_type": "markdown",
   "metadata": {}
  },
  {
   "source": [
    "#### Generating a MoveIt! configuration package using the Setup Assistant tool\n",
    "First of all, you'll need to launch the MoveIt Setup Assistant. You can do that by typing the following command:"
   ],
   "cell_type": "markdown",
   "metadata": {}
  },
  {
   "cell_type": "code",
   "execution_count": null,
   "metadata": {},
   "outputs": [],
   "source": [
    "roslaunch moveit_setup_assistant setup_assistant.launch"
   ]
  },
  {
   "source": [
    "#### Loading your robot's URDF file\n",
    "Click on the \"Create New MoveIt Configuration Package\" button\n",
    "\n",
    "Now, just click the \"Browse\" button, select the URDF file named ur5e_joint_limited_robot.urdf.xacro in \"ur_e_description\" folder\n",
    "\n",
    "and click on the \"Load Files\" button."
   ],
   "cell_type": "markdown",
   "metadata": {}
  }
 ]
}