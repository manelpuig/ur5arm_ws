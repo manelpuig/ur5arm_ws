{
 "cells": [
  {
   "source": [
    "# Install Phantom-Omni\n",
    "\n",
    "The ROS instructions are: http://wiki.ros.org/phantom_omni\n",
    "\n",
    "The ROS repository is: https://github.com/danepowell/phantom_omni\n",
    "\n",
    "Development for Phantom-omni: \n",
    "- https://fsuarez6.github.io/projects/geomagic-touch-in-ros/\n",
    "- https://github.com/bharatm11/Geomagic_Touch_ROS_Drivers\n",
    "    \n",
    "Follow the instructions to install the devic:omni intall.txt\n",
    "\n",
    "Additional information: https://github.com/jdrew1303/ros_geomagic_touch_phantom_omni"
   ],
   "cell_type": "markdown",
   "metadata": {}
  },
  {
   "source": [
    "# Omni control\n",
    "\n",
    "The final configuration will be:"
   ],
   "cell_type": "markdown",
   "metadata": {}
  },
  {
   "source": [
    "<img src=\"./Images/3_omni_nodes.png\">"
   ],
   "cell_type": "markdown",
   "metadata": {}
  },
  {
   "source": [
    "In phantom_omni stack, two diferent packages have to be created:\n",
    "- omni_moveit: to obtain the omni_pose of pen end-effector\n",
    "- omni_control: to perform desired conversions and publish the omni_pose_target\n",
    "\n",
    "In ur5_control package, a python script file has to be created:\n",
    "- to subscribe the (x,y,z) of the /omni_pose topic for the end-effector position\n",
    "- perform the desired pose-scaling and safety transformations\n",
    "\n",
    "In Arduino, the serial_node will:\n",
    "- subscribe the (R,P,W) orientation\n",
    "- translate it to servomotor angle rotation\n",
    "- read the force exerted by the servomotors\n",
    "- publish forces "
   ],
   "cell_type": "markdown",
   "metadata": {}
  }
 ],
 "metadata": {
  "kernelspec": {
   "display_name": "Python 2",
   "language": "python",
   "name": "python2"
  },
  "language_info": {
   "codemirror_mode": {
    "name": "ipython",
    "version": 2
   },
   "file_extension": ".py",
   "mimetype": "text/x-python",
   "name": "python",
   "nbconvert_exporter": "python",
   "pygments_lexer": "ipython2",
   "version": "2.7.17-final"
  }
 },
 "nbformat": 4,
 "nbformat_minor": 2
}