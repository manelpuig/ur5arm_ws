{
 "metadata": {
  "language_info": {
   "codemirror_mode": {
    "name": "ipython",
    "version": 3
   },
   "file_extension": ".py",
   "mimetype": "text/x-python",
   "name": "python",
   "nbconvert_exporter": "python",
   "pygments_lexer": "ipython3",
   "version": 3
  },
  "orig_nbformat": 2
 },
 "nbformat": 4,
 "nbformat_minor": 2,
 "cells": [
  {
   "source": [
    "# UR5 Kinematics simulation"
   ],
   "cell_type": "markdown",
   "metadata": {}
  },
  {
   "source": [
    "We will use th \"ur5_e_moveit_config\" package in \"src/fmauch_universal_robot\" folder for simulation purposes. \n",
    "\n",
    "Detailed information will be found in readme file on: https://github.com/fmauch/universal_robot/tree/melodic-devel-staging\n",
    "\n",
    "We will be able to simulate the forward and Inverse Kinematics"
   ],
   "cell_type": "markdown",
   "metadata": {}
  },
  {
   "source": [
    "## Forward Kinematics\n",
    "Be sure you have installed \"rqt-joint-trajectory-controller\" package:"
   ],
   "cell_type": "markdown",
   "metadata": {}
  },
  {
   "cell_type": "code",
   "execution_count": null,
   "metadata": {},
   "outputs": [],
   "source": [
    "sudo apt-get install ros-melodic-rqt-joint-trajectory-controller"
   ]
  },
  {
   "source": [
    "### Usage with Gazebo Simulation\n",
    "\n",
    "To bring up the simulated robot in Gazebo, run:"
   ],
   "cell_type": "markdown",
   "metadata": {}
  },
  {
   "cell_type": "code",
   "execution_count": null,
   "metadata": {},
   "outputs": [],
   "source": [
    "roslaunch ur_e_gazebo ur5e.launch"
   ]
  },
  {
   "cell_type": "code",
   "execution_count": null,
   "metadata": {},
   "outputs": [],
   "source": [
    "rosrun rqt_joint_trajectory_controller rqt_joint_trajectory_controller"
   ]
  },
  {
   "source": [
    "<img src=\"./Images/2_gazebo_joint_controller.png\">"
   ],
   "cell_type": "markdown",
   "metadata": {}
  },
  {
   "source": [
    "## Inverse Kinematics\n",
    "For inverse kinematics you can use moveIt!\n",
    "### MoveIt! with a simulated robot\n",
    "\n",
    "Again, you can use MoveIt! to control the simulated robot.\n",
    "\n",
    "Tutorial\n",
    "http://docs.ros.org/en/melodic/api/moveit_tutorials/html/index.html\n",
    "\n",
    "Videos\n",
    "https://www.youtube.com/watch?v=b4T577d39dE\n",
    "\n",
    "https://www.youtube.com/watch?v=BxCik8OI1Fw\n",
    "\n",
    "As MoveIt! seems to have difficulties with finding plans for the UR with full joint limits [-2pi, 2pi], there is a joint_limited version using joint limits restricted to [-pi,pi]. In order to use this joint limited version, simply use the launch file arguments 'limited', i.e.:"
   ],
   "cell_type": "markdown",
   "metadata": {}
  },
  {
   "cell_type": "code",
   "execution_count": null,
   "metadata": {},
   "outputs": [],
   "source": [
    "roslaunch ur_e_gazebo ur5e.launch limited:=true"
   ]
  },
  {
   "source": [
    "For setting up the MoveIt! nodes to allow motion planning run:"
   ],
   "cell_type": "markdown",
   "metadata": {}
  },
  {
   "cell_type": "code",
   "execution_count": null,
   "metadata": {},
   "outputs": [],
   "source": [
    "roslaunch ur5_e_moveit_config ur5_e_moveit_planning_execution.launch sim:=true limited:=true"
   ]
  },
  {
   "source": [
    "For starting up RViz with a configuration including the MoveIt! Motion Planning plugin run:"
   ],
   "cell_type": "markdown",
   "metadata": {}
  },
  {
   "cell_type": "code",
   "execution_count": null,
   "metadata": {},
   "outputs": [],
   "source": [
    "roslaunch ur5_e_moveit_config moveit_rviz.launch config:=true"
   ]
  },
  {
   "source": [
    "<img src=\"./Images/2_gazebo_rviz_IK.png\">"
   ],
   "cell_type": "markdown",
   "metadata": {}
  },
  {
   "source": [
    "You can:\n",
    "- Plan: with Motion Planning you can view the results in rviz\n",
    "- execute: the planned movement is executed in gazebo"
   ],
   "cell_type": "markdown",
   "metadata": {}
  },
  {
   "source": [
    "### Specific package for Kinematics control\n",
    "\n",
    "We can create a specific package for kinematics control.\n",
    "\n",
    "Create the ur5control package with dependencies:\n",
    "- moveit_core \n",
    "- moveit_visual_tools \n",
    "- moveit_ros_planning_interface \n",
    "- interactive_markers \n",
    "- tf2_geometry_msgs"
   ],
   "cell_type": "markdown",
   "metadata": {}
  },
  {
   "cell_type": "code",
   "execution_count": null,
   "metadata": {},
   "outputs": [],
   "source": [
    "catkin_create_pkg ur5control rospy std_msgs moveit_core moveit_visual_tools moveit_ros_planning_interface interactive_markers tf2_geometry_msgs"
   ]
  },
  {
   "source": [
    "create a specific python file to control the UR5 arm movement in:\n",
    "- Forward Kinematics --> Joints control\n",
    "- Inverse Kinematics --> Pose Control\n",
    "\n",
    "Run first the gazobo model, planning execution and moveit rviz"
   ],
   "cell_type": "markdown",
   "metadata": {}
  },
  {
   "cell_type": "code",
   "execution_count": null,
   "metadata": {},
   "outputs": [],
   "source": [
    "roslaunch ur_e_gazebo ur5e.launch limited:=true\n",
    "roslaunch ur5_e_moveit_config ur5_e_moveit_planning_execution.launch sim:=true limited:=true\n",
    "roslaunch ur5_e_moveit_config moveit_rviz.launch config:=true"
   ]
  },
  {
   "source": [
    "### Joints control\n",
    "\n",
    "We create the \"ur5e_joints_control1.py\" to control the different link angles:"
   ],
   "cell_type": "markdown",
   "metadata": {}
  },
  {
   "cell_type": "code",
   "execution_count": null,
   "metadata": {},
   "outputs": [],
   "source": [
    "rosrun ur5control ur5e_joints_control1.py "
   ]
  },
  {
   "source": [
    "<img src=\"./Images/2_control_joints1.png\">"
   ],
   "cell_type": "markdown",
   "metadata": {}
  },
  {
   "source": [
    "### Pose control\n",
    "\n",
    "We create the \"ur5e_pose_control1.py\" to control the pose target:"
   ],
   "cell_type": "markdown",
   "metadata": {}
  },
  {
   "cell_type": "code",
   "execution_count": null,
   "metadata": {},
   "outputs": [],
   "source": [
    "rosrun ur5control ur5e_pose_control1.py "
   ]
  },
  {
   "source": [
    "<img src=\"./Images/2_control_pose1.png\">"
   ],
   "cell_type": "markdown",
   "metadata": {}
  },
  {
   "cell_type": "code",
   "execution_count": null,
   "metadata": {},
   "outputs": [],
   "source": []
  }
 ]
}