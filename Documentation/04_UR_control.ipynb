{
 "metadata": {
  "language_info": {
   "codemirror_mode": {
    "name": "ipython",
    "version": 3
   },
   "file_extension": ".py",
   "mimetype": "text/x-python",
   "name": "python",
   "nbconvert_exporter": "python",
   "pygments_lexer": "ipython3",
   "version": 3
  },
  "orig_nbformat": 2
 },
 "nbformat": 4,
 "nbformat_minor": 2,
 "cells": [
  {
   "source": [
    "# UR5e control real robot"
   ],
   "cell_type": "markdown",
   "metadata": {}
  },
  {
   "source": [
    "Detailed information will be found in readme file on: \n",
    "\n",
    "We will be able to simulate the forward and Inverse Kinematics:\n",
    "\n",
    "Tutorial\n",
    "http://docs.ros.org/en/melodic/api/moveit_tutorials/html/index.html\n",
    "\n",
    "Videos\n",
    "https://www.youtube.com/watch?v=b4T577d39dE\n",
    "\n",
    "https://www.youtube.com/watch?v=BxCik8OI1Fw"
   ],
   "cell_type": "markdown",
   "metadata": {}
  },
  {
   "source": [
    "### Specific package for Kinematics control\n",
    "\n",
    "We can create a specific package for kinematics control.\n",
    "\n",
    "Create the ur5control package with dependencies:\n",
    "- moveit_core \n",
    "- moveit_visual_tools \n",
    "- moveit_ros_planning_interface \n",
    "- interactive_markers \n",
    "- tf2_geometry_msgs"
   ],
   "cell_type": "markdown",
   "metadata": {}
  },
  {
   "cell_type": "code",
   "execution_count": null,
   "metadata": {},
   "outputs": [],
   "source": [
    "catkin_create_pkg ur5control rospy std_msgs moveit_core moveit_visual_tools moveit_ros_planning_interface interactive_markers tf2_geometry_msgs"
   ]
  },
  {
   "source": [
    "create a specific python file to control the UR5 arm movement in:\n",
    "- Forward Kinematics --> Joints control\n",
    "- Inverse Kinematics --> Pose Control\n",
    "\n",
    "We will use the same ones we have created in the Simulation chapter\n",
    "\n",
    "First we open the driver with the callibration file:"
   ],
   "cell_type": "markdown",
   "metadata": {}
  },
  {
   "cell_type": "code",
   "execution_count": null,
   "metadata": {},
   "outputs": [],
   "source": [
    "roslaunch ur_robot_driver ur5e_bringup.launch robot_ip:=192.168.1.2 \\\n",
    "  kinematics_config:=\"${HOME}/my_robot_calibration.yaml\""
   ]
  },
  {
   "source": [
    "Now you can find the \"controllers.yaml\" file in \"/home/mpuig/ur5arm_ws/src/fmauch_universal_robot/ur5_e_moveit_config/config/controllers.yaml\" and perform a modification:\n",
    "- The action_ns has to be changed from: follow_joint_trajectory to: scaled_pos_joint_traj_controller/follow_joint_trajectory\n",
    "\n",
    "Now you can use moveIt! for Inverse Kinematics with a real UR5e arm:"
   ],
   "cell_type": "markdown",
   "metadata": {}
  },
  {
   "cell_type": "code",
   "execution_count": null,
   "metadata": {},
   "outputs": [],
   "source": [
    "roslaunch ur5_e_moveit_config ur5_e_moveit_planning_execution.launch"
   ]
  },
  {
   "cell_type": "code",
   "execution_count": null,
   "metadata": {},
   "outputs": [],
   "source": [
    "roslaunch ur5_e_moveit_config moveit_rviz.launch config:=true"
   ]
  },
  {
   "source": [
    "### Joints control\n",
    "We create the \"ur5e_joints_control1.py\" to control the different link angles:"
   ],
   "cell_type": "markdown",
   "metadata": {}
  },
  {
   "cell_type": "code",
   "execution_count": null,
   "metadata": {},
   "outputs": [],
   "source": [
    "rosrun ur5control ur5e_joints_control1.py "
   ]
  },
  {
   "cell_type": "code",
   "execution_count": null,
   "metadata": {},
   "outputs": [],
   "source": []
  },
  {
   "source": [
    "### Pose control\n",
    "\n",
    "We create the \"ur5e_pose_control1.py\" to control the pose target:"
   ],
   "cell_type": "markdown",
   "metadata": {}
  },
  {
   "cell_type": "code",
   "execution_count": null,
   "metadata": {},
   "outputs": [],
   "source": [
    "rosrun ur5control ur5e_pose_control1.py "
   ]
  }
 ]
}