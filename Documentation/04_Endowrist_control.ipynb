{
 "metadata": {
  "language_info": {
   "codemirror_mode": {
    "name": "ipython",
    "version": 3
   },
   "file_extension": ".py",
   "mimetype": "text/x-python",
   "name": "python",
   "nbconvert_exporter": "python",
   "pygments_lexer": "ipython3",
   "version": 3
  },
  "orig_nbformat": 2
 },
 "nbformat": 4,
 "nbformat_minor": 2,
 "cells": [
  {
   "source": [
    "# DaVinci Endowrist control\n",
    "\n",
    "In this section we will design a complete Endowrist control based on Arduino"
   ],
   "cell_type": "markdown",
   "metadata": {}
  },
  {
   "source": [
    "<img src=\"./Images/5_endowrist1.png\">"
   ],
   "cell_type": "markdown",
   "metadata": {}
  },
  {
   "source": [
    "## Arduino serial node\n",
    "\n",
    "An arduino board is used to interface the sensors and actuators needed to control the Endowrist with the pen-based user interface device:\n",
    "- read the IMU sensor to obtain the rpw orientation to TCP Endowrist\n",
    "- read the first push buttom to control the movement in the x direction of Endowrist\n",
    "- read the second push buttom to open or close the Endowrist gripper\n",
    "- write to the 3 servomotors the rpw angles to obtain in Endowrist gripper the same orientation as the pen\n",
    "\n",
    "A custom C++ file is written in arduino board to perform these operations and publish the corresponding topics:\n",
    "- /pen_orientation: Float32MultiArray message obtained from the IMU rpw angles\n",
    "- /pen_position: Boolean message obtained from the first pen push buttom\n",
    "- /pen_open: Boolean message obtained from the second pen push buttom"
   ],
   "cell_type": "markdown",
   "metadata": {}
  },
  {
   "source": [
    "First of all you have to install rosserial and the arduino libraries"
   ],
   "cell_type": "markdown",
   "metadata": {}
  },
  {
   "source": [
    "sudo apt-get install ros-melodic-rosserial ros-melodic-rosserial-server ros-melodic-rosserial-arduino"
   ],
   "cell_type": "code",
   "metadata": {},
   "execution_count": null,
   "outputs": []
  },
  {
   "cell_type": "code",
   "execution_count": null,
   "metadata": {},
   "outputs": [],
   "source": [
    "cd ~/Arduino/libraries\n",
    "rm -rf ros_lib\n",
    "rosrun rosserial_arduino make_libraries.py ."
   ]
  },
  {
   "source": [
    "Now you are ready to develop ROS programs adapted to Arduino platform\n",
    "\n",
    "You will need to install the USB port and give user permissions. Instructions are given in:https://github.com/manelpuig/rubot_hw_ws/blob/master/Documentation/01_Arduino_install.ipynb"
   ],
   "cell_type": "markdown",
   "metadata": {}
  },
  {
   "source": [
    "The program designed for Arduino is \"endowrist_control_ros.ino\" located in \"Documentation/Files/Arduino_programs\""
   ],
   "cell_type": "markdown",
   "metadata": {}
  },
  {
   "source": [
    "## Endowrist Pen control node\n",
    "We have designed a /pen_control node with:\n",
    "- Subscriber to /pen_orientation: obtained from the IMU rpw angles\n",
    "- Subscriber to /pen_position: obtained from the first pen push buttom\n",
    "- Subscriber to /pen_open: obtained from the second pen push buttom\n",
    "- Subscriber to /pose_current: obtained from the current pose published by /ur5e_node\n",
    "- Publisher to /pose_target: defining the movement across x axis of endowrist frame\n",
    "\n",
    "We have created a new python file \"endowrist_pen_control.py\" in the same ur5control package"
   ],
   "cell_type": "markdown",
   "metadata": {}
  },
  {
   "source": [
    "A new \"endowrist_control.launch\" file is created to:\n",
    "- launch the Arduino serial node\n",
    "- launch the Endowrist pen control node\n",
    "- launch the ur5e bringup\n",
    "- launch the ur5e control node"
   ],
   "cell_type": "markdown",
   "metadata": {}
  },
  {
   "cell_type": "code",
   "execution_count": null,
   "metadata": {},
   "outputs": [],
   "source": [
    "<launch>\n",
    "  <!-- Launch Arduino serial node -->\n",
    "  <node name=\"serial_node\"        pkg=\"rosserial_python\"      type=\"serial_node.py\">\n",
    "    <param name=\"port\"              type=\"string\"               value=\"/dev/ttyACM0\"/>\n",
    "    <param name=\"baud\"              type=\"int\"                  value=\"57600\"/>\n",
    "  </node>\n",
    "  <!-- Launch Endowrist pen control node -->\n",
    "  <node name=\"endowrist_pen_control\" pkg=\"ur5control\" type=\"endowrist_pen_control.py\" output=\"screen\">\n",
    "  </node>\n",
    "  <!-- Launch ur5e bringup -->\n",
    "  <include file=\"$(find ur5control)/launch/ur5e_bringup_sim.launch\"/>\n",
    "  <!-- Launch ur5e node -->\n",
    "  <node name=\"ur5e_node\" pkg=\"ur5control\" type=\"ur5e_pose2robot.py\" output=\"screen\">\n",
    "  </node>\n",
    "</launch>"
   ]
  },
  {
   "cell_type": "code",
   "execution_count": null,
   "metadata": {},
   "outputs": [],
   "source": [
    "roslaunch ur5control endowrist_control.launch"
   ]
  },
  {
   "source": [
    "## Pen Orientation operation"
   ],
   "cell_type": "markdown",
   "metadata": {}
  },
  {
   "source": [
    "## Pen Position operation\n",
    "\n",
    "When this specific push buttom is pressed, the robot arm has to change the TCP POSE in x direction a delta(x) value\n",
    "\n",
    "Teh TCP frame is the mobile frame "
   ],
   "cell_type": "markdown",
   "metadata": {}
  },
  {
   "source": [
    "## Pen Open operation"
   ],
   "cell_type": "markdown",
   "metadata": {}
  }
 ]
}