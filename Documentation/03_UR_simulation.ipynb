{
 "metadata": {
  "language_info": {
   "codemirror_mode": {
    "name": "ipython",
    "version": 3
   },
   "file_extension": ".py",
   "mimetype": "text/x-python",
   "name": "python",
   "nbconvert_exporter": "python",
   "pygments_lexer": "ipython3",
   "version": 3
  },
  "orig_nbformat": 2
 },
 "nbformat": 4,
 "nbformat_minor": 2,
 "cells": [
  {
   "source": [
    "# UR5 simulation"
   ],
   "cell_type": "markdown",
   "metadata": {}
  },
  {
   "source": [
    "###  in Gazebo\n",
    "\n",
    "There are launch files available to bringup a simulated robot in Gazebo.\n",
    "\n",
    "To bring up the simulated robot in Gazebo, run:"
   ],
   "cell_type": "markdown",
   "metadata": {}
  },
  {
   "cell_type": "code",
   "execution_count": null,
   "metadata": {},
   "outputs": [],
   "source": [
    "roslaunch ur_gazebo ur5.launch"
   ]
  },
  {
   "cell_type": "code",
   "execution_count": null,
   "metadata": {},
   "outputs": [],
   "source": [
    "rosrun rqt_joint_trajectory_controller rqt_joint_trajectory_controller"
   ]
  },
  {
   "source": [
    "### MoveIt! with a simulated robot\n",
    "\n",
    "You can use MoveIt! to control the simulated robot.\n",
    "\n",
    "\n",
    "https://github.com/ros-industrial/universal_robot/tree/melodic-devel\n",
    "\n",
    "For setting up the MoveIt! nodes to allow motion planning run:"
   ],
   "cell_type": "markdown",
   "metadata": {}
  },
  {
   "cell_type": "code",
   "execution_count": null,
   "metadata": {},
   "outputs": [],
   "source": [
    "roslaunch ur5_moveit_config ur5_moveit_planning_execution.launch sim:=true"
   ]
  },
  {
   "source": [
    "<img src=\"./Images/1_ur5_gazebo1.png\">"
   ],
   "cell_type": "markdown",
   "metadata": {}
  },
  {
   "source": [
    "For starting up RViz with a configuration including the MoveIt! Motion Planning plugin run:"
   ],
   "cell_type": "markdown",
   "metadata": {}
  },
  {
   "cell_type": "code",
   "execution_count": null,
   "metadata": {},
   "outputs": [],
   "source": [
    "roslaunch ur5_moveit_config moveit_rviz.launch config:=true"
   ]
  },
  {
   "source": [
    "# MoveIt!\n",
    "Tutorial\n",
    "http://docs.ros.org/en/melodic/api/moveit_tutorials/html/index.html\n",
    "\n",
    "Videos\n",
    "https://www.youtube.com/watch?v=b4T577d39dE\n",
    "https://www.youtube.com/watch?v=BxCik8OI1Fw\n",
    "\n",
    "Gamepad Xbox360:\n",
    "https://www.amazon.es/dp/B0886GTMM2/ref=sspa_dk_detail_0?psc=1&pd_rd_i=B0886GTMM2&pd_rd_w=FyS9h&pf_rd_p=b39a6510-b997-4445-a1c4-cee175eeff20&pd_rd_wg=aDvTo&pf_rd_r=TAJCTPY4B5ZPF5HH6X9D&pd_rd_r=5774e3e1-ce0c-4005-8669-3cd1d7738859&spLa=ZW5jcnlwdGVkUXVhbGlmaWVyPUFYNjBFUFJFM0dJMFAmZW5jcnlwdGVkSWQ9QTAxMzQ4NjgxTDk5SDMzVlJHRzNMJmVuY3J5cHRlZEFkSWQ9QTA5MzAzNDQyVFVLTUMzNktISlFHJndpZGdldE5hbWU9c3BfZGV0YWlsJmFjdGlvbj1jbGlja1JlZGlyZWN0JmRvTm90TG9nQ2xpY2s9dHJ1ZQ==\n"
   ],
   "cell_type": "markdown",
   "metadata": {}
  },
  {
   "source": [
    "### Kinematics control\n",
    "\n",
    "We create a ur5control package with dependencies:\n",
    "moveit_core moveit_visual_tools moveit_ros_planning_interface interactive_markers tf2_geometry_msgs"
   ],
   "cell_type": "markdown",
   "metadata": {}
  },
  {
   "cell_type": "code",
   "execution_count": null,
   "metadata": {},
   "outputs": [],
   "source": [
    "catkin_create_pkg ur5control rospy std_msgs moveit_core moveit_visual_tools moveit_ros_planning_interface interactive_markers tf2_geometry_msgs"
   ]
  },
  {
   "source": [
    "Open moveIt! and verify the name of move_group=manipulator"
   ],
   "cell_type": "markdown",
   "metadata": {}
  },
  {
   "source": [
    "you have first to modify the file: https://github.com/ros-industrial/universal_robot/blob/kinetic-devel/ur5_e_moveit_config/config/controllers.yaml\n",
    "\n",
    "The action_ns has to be changed to: scaled_pos_joint_traj_controller/follow_joint_trajectory"
   ],
   "cell_type": "markdown",
   "metadata": {}
  },
  {
   "cell_type": "code",
   "execution_count": null,
   "metadata": {},
   "outputs": [],
   "source": [
    "roslaunch ur5_e_moveit_config ur5_e_moveit_planning_execution.launch"
   ]
  },
  {
   "cell_type": "code",
   "execution_count": null,
   "metadata": {},
   "outputs": [],
   "source": [
    "roslaunch ur5_e_moveit_config moveit_rviz.launch config:=true\n",
    "\n"
   ]
  },
  {
   "source": [],
   "cell_type": "markdown",
   "metadata": {}
  }
 ]
}