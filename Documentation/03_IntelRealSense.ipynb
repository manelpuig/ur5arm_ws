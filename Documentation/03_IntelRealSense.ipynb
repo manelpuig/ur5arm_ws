{
 "metadata": {
  "language_info": {
   "codemirror_mode": {
    "name": "ipython",
    "version": 3
   },
   "file_extension": ".py",
   "mimetype": "text/x-python",
   "name": "python",
   "nbconvert_exporter": "python",
   "pygments_lexer": "ipython3",
   "version": 3
  },
  "orig_nbformat": 2
 },
 "nbformat": 4,
 "nbformat_minor": 2,
 "cells": [
  {
   "source": [
    "# Install IntelRealSense 3D Camera\n",
    "\n",
    "The ROS Instructions are: http://wiki.ros.org/realsense2_camera\n",
    "\n",
    "The ROS repository is: https://github.com/IntelRealSense/realsense-ros\n"
   ],
   "cell_type": "markdown",
   "metadata": {}
  }
 ]
}