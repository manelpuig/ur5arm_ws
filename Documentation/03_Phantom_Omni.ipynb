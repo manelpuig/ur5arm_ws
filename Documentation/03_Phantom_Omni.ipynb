{
 "cells": [
  {
   "source": [
    "# Install Phantom-Omni\n",
    "\n",
    "The ROS instructions are: http://wiki.ros.org/phantom_omni\n",
    "\n",
    "The ROS repository is: https://github.com/danepowell/phantom_omni\n",
    "\n",
    "Development for Phantom-omni: \n",
    "- https://fsuarez6.github.io/projects/geomagic-touch-in-ros/\n",
    "- https://github.com/bharatm11/Geomagic_Touch_ROS_Drivers\n",
    "    \n",
    "Follow the instructions to install the devic:omni intall.txt\n",
    "\n",
    "Additional information: https://github.com/jdrew1303/ros_geomagic_touch_phantom_omni"
   ],
   "cell_type": "markdown",
   "metadata": {}
  },
  {
   "source": [
    "# Omni control\n",
    "\n",
    "The final configuration will be:"
   ],
   "cell_type": "markdown",
   "metadata": {}
  },
  {
   "source": [
    "<img src=\"./Images/3_omni_nodes.png\">"
   ],
   "cell_type": "markdown",
   "metadata": {}
  },
  {
   "source": [
    "In phantom_omni stack, two diferent packages have to be created:\n",
    "- omni_moveit: to obtain the omni_pose of pen end-effector\n",
    "- omni_control: to perform desired conversions and publish the omni_pose_target\n",
    "\n",
    "In ur5_control package, a python script file has to be created:\n",
    "- to subscribe the (x,y,z) of the /omni_pose topic for the end-effector position\n",
    "- perform the desired pose-scaling and safety transformations\n",
    "\n",
    "In Arduino, the serial_node will:\n",
    "- subscribe the (R,P,W) orientation\n",
    "- translate it to servomotor angle rotation\n",
    "- read the force exerted by the servomotors\n",
    "- publish forces "
   ],
   "cell_type": "markdown",
   "metadata": {}
  },
  {
   "source": [
    "# Endowrist control\n",
    "\n",
    "The Endowrist module is controlled within Arduino Mega board to interface with:\n",
    "- Actuators: 4 servomotors\n",
    "- Sensors: force sensors \n",
    "\n",
    "We need to install Rosserial module. Follow the indications to install Arduino and Rosserial module: https://github.com/manelpuig/rubot_hw_ws/blob/master/Documentation/01_Arduino_install.ipynb\n",
    "\n",
    "Important links are:\n",
    "\n",
    "http://wiki.ros.org/rosserial_arduino/Tutorials\n",
    "http://wiki.ros.org/rosserial_arduino/Tutorials/Servo%20Controller"
   ],
   "cell_type": "markdown",
   "metadata": {}
  },
  {
   "cell_type": "code",
   "execution_count": null,
   "metadata": {},
   "outputs": [],
   "source": [
    "#if (ARDUINO >= 100)\n",
    " #include <Arduino.h>\n",
    "#else\n",
    " #include <WProgram.h>\n",
    "#endif\n",
    "\n",
    "#include <Servo.h> \n",
    "#include <ros.h>\n",
    "#include <std_msgs/UInt16.h>\n",
    "\n",
    "ros::NodeHandle  nh;\n",
    "\n",
    "Servo servo1;\n",
    "Servo servo2;\n",
    "\n",
    "void servo1_cb( const std_msgs::UInt16&  cmd_msg){\n",
    "  servo1.write(cmd_msg.data); //set servo angle, should be from 0-180  \n",
    "  digitalWrite(13, HIGH-digitalRead(13));  //toggle led  \n",
    "}\n",
    "\n",
    "void servo2_cb( const std_msgs::UInt16&  cmd_msg){\n",
    "  servo2.write(cmd_msg.data); //set servo angle, should be from 0-180  \n",
    "  //digitalWrite(13, HIGH-digitalRead(13));  //toggle led  \n",
    "}\n",
    "ros::Subscriber<std_msgs::UInt16> sub1(\"servo1\", servo1_cb);\n",
    "ros::Subscriber<std_msgs::UInt16> sub2(\"servo2\", servo2_cb);\n",
    "\n",
    "void setup(){\n",
    "  pinMode(13, OUTPUT);\n",
    "\n",
    "  nh.initNode();\n",
    "  nh.subscribe(sub1);\n",
    "  nh.subscribe(sub2);\n",
    "\n",
    "  servo1.attach(9); //attach it to pin 9\n",
    "  servo2.attach(10);//attach it to pin10\n",
    "}\n",
    "\n",
    "void loop(){\n",
    "  nh.spinOnce();\n",
    "  delay(20);\n",
    "}"
   ]
  },
  {
   "cell_type": "code",
   "execution_count": null,
   "metadata": {},
   "outputs": [],
   "source": [
    "roscore\n",
    "rossrun rosserial_python serial_node.py /dev/ttyUSB0"
   ]
  },
  {
   "cell_type": "code",
   "execution_count": null,
   "metadata": {},
   "outputs": [],
   "source": [
    "rostopic pub servo1 std_msgs/UInt16  <angle1> & rostopic pub servo2 std_msgs/UInt16  <angle2>"
   ]
  }
 ],
 "metadata": {
  "kernelspec": {
   "display_name": "Python 2",
   "language": "python",
   "name": "python2"
  },
  "language_info": {
   "codemirror_mode": {
    "name": "ipython",
    "version": 2
   },
   "file_extension": ".py",
   "mimetype": "text/x-python",
   "name": "python",
   "nbconvert_exporter": "python",
   "pygments_lexer": "ipython2",
   "version": "2.7.17-final"
  }
 },
 "nbformat": 4,
 "nbformat_minor": 2
}