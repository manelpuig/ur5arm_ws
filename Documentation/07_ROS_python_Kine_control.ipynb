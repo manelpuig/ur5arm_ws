{
 "metadata": {
  "language_info": {
   "codemirror_mode": {
    "name": "ipython",
    "version": 3
   },
   "file_extension": ".py",
   "mimetype": "text/x-python",
   "name": "python",
   "nbconvert_exporter": "python",
   "pygments_lexer": "ipython3",
   "version": 3
  },
  "orig_nbformat": 2
 },
 "nbformat": 4,
 "nbformat_minor": 2,
 "cells": [
  {
   "source": [
    "## Interacting with the simulation (real robot)\n",
    "This unit will show you how to create a MoveIt Package for your industrial robot. By completing this unit, you will be able to create a package that allows your robot to perform motion planning.\n",
    "\n",
    "### Moving the real robot\n",
    "Up to now, you only moved the robot in the MoveIt application. This is very useful because you can do many tests without worrying about any damage. However, the final goal will always be to move the real robot, right?\n",
    "\n",
    "The MoveIt package you've created is able to provide the necessary ROS services and actions in order to plan and execute trajectories, but it isn't able to pass these trajectories to the real robot. All the kinematics you've been performing were executed in an internal simulator that MoveIt provides. In order to communicate with the real robot, it will be necessary to do a couple of modifications to the MoveIt package you created in the previous chapter.\n",
    "\n",
    "Obviously, in this course, you don't have a real robot to do this with, so you will apply the same, but for the moving, to the simulated robot. In order to see what you need to change in your MoveIt package, just follow the next exercise.\t\n",
    "\n",
    "First of all, let's have a look at the file ros_controllers.yaml that has been created by the MoveIt Setup Assistant. If you remember, this file was configured in the Setup ROS Controllers section from the previous chapter. You will find this file inside the config folder.\n",
    "\n",
    "Let's have a look at the last part of the file, where we define the controller_list:"
   ],
   "cell_type": "markdown",
   "metadata": {}
  },
  {
   "cell_type": "code",
   "execution_count": null,
   "metadata": {},
   "outputs": [],
   "source": [
    "# Simulation settings for using moveit_sim_controllers\n",
    "moveit_sim_hw_interface:\n",
    "  joint_model_group: arm\n",
    "  joint_model_group_pose: home\n",
    "# Settings for ros_control_boilerplate control loop\n",
    "generic_hw_control_loop:\n",
    "  loop_hz: 300\n",
    "  cycle_time_error_threshold: 0.01\n",
    "# Settings for ros_control hardware interface\n",
    "hardware_interface:\n",
    "  joints:\n",
    "    - shoulder_pan_joint\n",
    "    - shoulder_lift_joint\n",
    "    - elbow_joint\n",
    "    - wrist_1_joint\n",
    "    - wrist_2_joint\n",
    "    - wrist_3_joint\n",
    "  sim_control_mode: 1  # 0: position, 1: velocity\n",
    "# Publish all joint states\n",
    "# Creates the /joint_states topic necessary in ROS\n",
    "joint_state_controller:\n",
    "  type: joint_state_controller/JointStateController\n",
    "  publish_rate: 50\n",
    "controller_list:\n",
    "  - name: arm_controller\n",
    "    action_ns: follow_joint_trajectory\n",
    "    default: True\n",
    "    type: FollowJointTrajectory\n",
    "    joints:\n",
    "      - shoulder_pan_joint\n",
    "      - shoulder_lift_joint\n",
    "      - elbow_joint\n",
    "      - wrist_1_joint\n",
    "      - wrist_2_joint\n",
    "      - wrist_3_joint"
   ]
  },
  {
   "source": [
    "Spawn the ur5e arm in gazebo:"
   ],
   "cell_type": "markdown",
   "metadata": {}
  },
  {
   "source": [
    "roslaunch ur_e_gazebo ur5e.launch limited:=true"
   ],
   "cell_type": "code",
   "metadata": {},
   "execution_count": null,
   "outputs": []
  },
  {
   "source": [
    "Verify the topics related to the arm_controller:\n",
    "\n",
    "mpuig@mpuig-vb:~/ur5arm_ws$ rostopic list \n",
    "\n",
    "/arm_controller/command\n",
    "\n",
    "/arm_controller/follow_joint_trajectory/cancel\n",
    "\n",
    "/arm_controller/follow_joint_trajectory/feedback\n",
    "\n",
    "/arm_controller/follow_joint_trajectory/goal\n",
    "\n",
    "/arm_controller/follow_joint_trajectory/result\n",
    "\n",
    "/arm_controller/follow_joint_trajectory/status\n",
    "\n",
    "/arm_controller/state\n"
   ],
   "cell_type": "markdown",
   "metadata": {}
  },
  {
   "source": [
    "So basically, here you are defining the Action Server that you will use for controlling the joints of your robotic arm (all the joints listed below the joints section). For this specific case, you are saying that you will control the joints of your arm using an Action Server that will look like this:\n",
    "\n",
    "/arm_controller/follow_joint_trajectory/<action_topics>\n",
    "\n",
    "in general is:"
   ],
   "cell_type": "markdown",
   "metadata": {}
  },
  {
   "cell_type": "code",
   "execution_count": null,
   "metadata": {},
   "outputs": [],
   "source": [
    "/<name>/<action_ns>/<action_topics>"
   ]
  },
  {
   "source": [
    "But if you have to verify if the topic has the same sintaxis:\n",
    "\n",
    "type: rostopic list | grep arm\n",
    "\n",
    "If there is a difference, you have to change the action_ns: with the exact topic name."
   ],
   "cell_type": "markdown",
   "metadata": {}
  },
  {
   "source": [
    "Great! So now we've solved the issue related to the configuration of the Action Server, but there's still one last thing we need to do.\n",
    "\n",
    "Basically, we are going to create a new launch file that will start all the required elements that MoveIt needs in order to be able to control our simulated robot. You can name this new file rbkairos_planning_executon.launch, and it should look like this:"
   ],
   "cell_type": "markdown",
   "metadata": {}
  }
 ]
}